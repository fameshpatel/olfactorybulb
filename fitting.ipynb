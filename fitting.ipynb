{
 "cells": [
  {
   "cell_type": "code",
   "execution_count": 1,
   "metadata": {
    "scrolled": false
   },
   "outputs": [
    {
     "name": "stderr",
     "output_type": "stream",
     "text": [
      "/home/justas/anaconda2/envs/p27/lib/python2.7/site-packages/h5py/__init__.py:36: FutureWarning: Conversion of the second argument of issubdtype from `float` to `np.floating` is deprecated. In future, it will be treated as `np.float64 == np.dtype(float).type`.\n",
      "  from ._conv import register_converters as _register_converters\n"
     ]
    },
    {
     "name": "stdout",
     "output_type": "stream",
     "text": [
      "Could not load NEURONBackend\n"
     ]
    }
   ],
   "source": [
    "import multiprocessing\n",
    "from prev_ob_models.Birgiolas2020.fitting import *"
   ]
  },
  {
   "cell_type": "code",
   "execution_count": 2,
   "metadata": {},
   "outputs": [],
   "source": [
    "import sys\n",
    "mc_id = sys.argv[1] if len(sys.argv) > 1 and sys.argv[1].isdigit() else 2"
   ]
  },
  {
   "cell_type": "code",
   "execution_count": 3,
   "metadata": {},
   "outputs": [
    {
     "name": "stdout",
     "output_type": "stream",
     "text": [
      "('Starting FITTER for', 'prev_ob_models.Birgiolas2020.isolated_cells.MC5')\n"
     ]
    }
   ],
   "source": [
    "fitter = FitterMC(\"prev_ob_models.Birgiolas2020.isolated_cells.MC\"+str(mc_id))"
   ]
  },
  {
   "cell_type": "code",
   "execution_count": 4,
   "metadata": {},
   "outputs": [
    {
     "data": {
      "text/html": [
       "<div>\n",
       "<table border=\"1\" class=\"dataframe\">\n",
       "  <thead>\n",
       "    <tr style=\"text-align: right;\">\n",
       "      <th></th>\n",
       "      <th>AfterHyperpolarizationAmplitudeTest</th>\n",
       "      <th>AfterHyperpolarizationTimeTest</th>\n",
       "      <th>CellCapacitanceTest</th>\n",
       "      <th>FISlopeTest</th>\n",
       "      <th>ISICVTest</th>\n",
       "      <th>InputResistanceTest</th>\n",
       "      <th>MembraneTimeConstantTest</th>\n",
       "      <th>ReboundSpikingTest</th>\n",
       "      <th>RestingVoltageTest</th>\n",
       "      <th>RheobaseTest</th>\n",
       "      <th>SagVoltageTest</th>\n",
       "      <th>SpikeAccommodationTest</th>\n",
       "      <th>SpikeAccommodationTimeConstantTest</th>\n",
       "      <th>SpikeAmplitudeTest</th>\n",
       "      <th>SpikeHalfWidthTest</th>\n",
       "      <th>SpikePeakTest</th>\n",
       "      <th>SpikeThresholdTest</th>\n",
       "      <th>model</th>\n",
       "    </tr>\n",
       "  </thead>\n",
       "  <tbody>\n",
       "    <tr>\n",
       "      <th>prev_ob_models.Birgiolas2020.isolated_cells.MC5</th>\n",
       "      <td>[0.8906222753665282]</td>\n",
       "      <td>0.3388003627412793</td>\n",
       "      <td>0.182588670184739</td>\n",
       "      <td>-0.7368421052631579</td>\n",
       "      <td>-0.0509564574013338</td>\n",
       "      <td>0.34397826945810334</td>\n",
       "      <td>-0.009474444056245064</td>\n",
       "      <td>0.0</td>\n",
       "      <td>1.3027169679844803</td>\n",
       "      <td>0.30278727879210526</td>\n",
       "      <td>0.749905268650046</td>\n",
       "      <td>-0.10498794798129786</td>\n",
       "      <td>2.987927068576678</td>\n",
       "      <td>[0.6474159746453282]</td>\n",
       "      <td>0.7241379310346594</td>\n",
       "      <td>0.5601886855713202</td>\n",
       "      <td>[1.9767740710676738]</td>\n",
       "      <td>prev_ob_models.Birgiolas2020.isolated_cells.MC5</td>\n",
       "    </tr>\n",
       "  </tbody>\n",
       "</table>\n",
       "</div>"
      ],
      "text/plain": [
       "                                                AfterHyperpolarizationAmplitudeTest  \\\n",
       "prev_ob_models.Birgiolas2020.isolated_cells.MC5                [0.8906222753665282]   \n",
       "\n",
       "                                                AfterHyperpolarizationTimeTest  \\\n",
       "prev_ob_models.Birgiolas2020.isolated_cells.MC5             0.3388003627412793   \n",
       "\n",
       "                                                CellCapacitanceTest  \\\n",
       "prev_ob_models.Birgiolas2020.isolated_cells.MC5   0.182588670184739   \n",
       "\n",
       "                                                         FISlopeTest  \\\n",
       "prev_ob_models.Birgiolas2020.isolated_cells.MC5  -0.7368421052631579   \n",
       "\n",
       "                                                           ISICVTest  \\\n",
       "prev_ob_models.Birgiolas2020.isolated_cells.MC5  -0.0509564574013338   \n",
       "\n",
       "                                                 InputResistanceTest  \\\n",
       "prev_ob_models.Birgiolas2020.isolated_cells.MC5  0.34397826945810334   \n",
       "\n",
       "                                                MembraneTimeConstantTest  \\\n",
       "prev_ob_models.Birgiolas2020.isolated_cells.MC5    -0.009474444056245064   \n",
       "\n",
       "                                                ReboundSpikingTest  \\\n",
       "prev_ob_models.Birgiolas2020.isolated_cells.MC5                0.0   \n",
       "\n",
       "                                                 RestingVoltageTest  \\\n",
       "prev_ob_models.Birgiolas2020.isolated_cells.MC5  1.3027169679844803   \n",
       "\n",
       "                                                        RheobaseTest  \\\n",
       "prev_ob_models.Birgiolas2020.isolated_cells.MC5  0.30278727879210526   \n",
       "\n",
       "                                                    SagVoltageTest  \\\n",
       "prev_ob_models.Birgiolas2020.isolated_cells.MC5  0.749905268650046   \n",
       "\n",
       "                                                SpikeAccommodationTest  \\\n",
       "prev_ob_models.Birgiolas2020.isolated_cells.MC5   -0.10498794798129786   \n",
       "\n",
       "                                                SpikeAccommodationTimeConstantTest  \\\n",
       "prev_ob_models.Birgiolas2020.isolated_cells.MC5                  2.987927068576678   \n",
       "\n",
       "                                                   SpikeAmplitudeTest  \\\n",
       "prev_ob_models.Birgiolas2020.isolated_cells.MC5  [0.6474159746453282]   \n",
       "\n",
       "                                                 SpikeHalfWidthTest  \\\n",
       "prev_ob_models.Birgiolas2020.isolated_cells.MC5  0.7241379310346594   \n",
       "\n",
       "                                                      SpikePeakTest  \\\n",
       "prev_ob_models.Birgiolas2020.isolated_cells.MC5  0.5601886855713202   \n",
       "\n",
       "                                                   SpikeThresholdTest  \\\n",
       "prev_ob_models.Birgiolas2020.isolated_cells.MC5  [1.9767740710676738]   \n",
       "\n",
       "                                                                                           model  \n",
       "prev_ob_models.Birgiolas2020.isolated_cells.MC5  prev_ob_models.Birgiolas2020.isolated_cells.MC5  "
      ]
     },
     "execution_count": 4,
     "metadata": {},
     "output_type": "execute_result"
    }
   ],
   "source": [
    "fitter.clear_cache()\n",
    "fitter.best = []\n",
    "df, score = fitter.get_best_score()\n",
    "df"
   ]
  },
  {
   "cell_type": "code",
   "execution_count": 5,
   "metadata": {},
   "outputs": [
    {
     "data": {
      "text/plain": [
       "4.2497160459605965"
      ]
     },
     "execution_count": 5,
     "metadata": {},
     "output_type": "execute_result"
    }
   ],
   "source": [
    "score[\"model_score\"]"
   ]
  },
  {
   "cell_type": "code",
   "execution_count": 6,
   "metadata": {},
   "outputs": [
    {
     "ename": "TypeError",
     "evalue": "exceptions must be old-style classes or derived from BaseException, not NoneType",
     "output_type": "error",
     "traceback": [
      "\u001b[0;31m---------------------------------------------------------------------------\u001b[0m",
      "\u001b[0;31mTypeError\u001b[0m                                 Traceback (most recent call last)",
      "\u001b[0;32m<ipython-input-6-9c9a2cba73bf>\u001b[0m in \u001b[0;36m<module>\u001b[0;34m()\u001b[0m\n\u001b[0;32m----> 1\u001b[0;31m \u001b[0;32mraise\u001b[0m\u001b[0;34m\u001b[0m\u001b[0m\n\u001b[0m",
      "\u001b[0;31mTypeError\u001b[0m: exceptions must be old-style classes or derived from BaseException, not NoneType"
     ]
    }
   ],
   "source": [
    "raise"
   ]
  },
  {
   "cell_type": "code",
   "execution_count": null,
   "metadata": {},
   "outputs": [],
   "source": [
    "fitter.top = None"
   ]
  },
  {
   "cell_type": "code",
   "execution_count": null,
   "metadata": {},
   "outputs": [],
   "source": [
    "cpus = multiprocessing.cpu_count()\n",
    "fitter.fit(int(cpus*1.5), 48)"
   ]
  },
  {
   "cell_type": "code",
   "execution_count": null,
   "metadata": {},
   "outputs": [],
   "source": [
    "fitter.clear_cache()\n",
    "fitter.best = []\n",
    "df, score = fitter.get_best_score()\n",
    "df"
   ]
  },
  {
   "cell_type": "code",
   "execution_count": null,
   "metadata": {},
   "outputs": [],
   "source": [
    "score[\"model_score\"]"
   ]
  },
  {
   "cell_type": "code",
   "execution_count": null,
   "metadata": {},
   "outputs": [],
   "source": [
    "fitter.pretty_pop()"
   ]
  },
  {
   "cell_type": "code",
   "execution_count": null,
   "metadata": {},
   "outputs": [],
   "source": [
    "from prev_ob_models.Birgiolas2020.isolated_cells import MC1\n",
    "mc = MC1()"
   ]
  },
  {
   "cell_type": "code",
   "execution_count": null,
   "metadata": {},
   "outputs": [],
   "source": [
    "fitter.print_params(fitter.best, mc.cell)"
   ]
  },
  {
   "cell_type": "code",
   "execution_count": null,
   "metadata": {},
   "outputs": [],
   "source": []
  }
 ],
 "metadata": {
  "kernelspec": {
   "display_name": "Python 2",
   "language": "python",
   "name": "python2"
  },
  "language_info": {
   "codemirror_mode": {
    "name": "ipython",
    "version": 2
   },
   "file_extension": ".py",
   "mimetype": "text/x-python",
   "name": "python",
   "nbconvert_exporter": "python",
   "pygments_lexer": "ipython2",
   "version": "2.7.14"
  },
  "varInspector": {
   "cols": {
    "lenName": 16,
    "lenType": 16,
    "lenVar": 40
   },
   "kernels_config": {
    "python": {
     "delete_cmd_postfix": "",
     "delete_cmd_prefix": "del ",
     "library": "var_list.py",
     "varRefreshCmd": "print(var_dic_list())"
    },
    "r": {
     "delete_cmd_postfix": ") ",
     "delete_cmd_prefix": "rm(",
     "library": "var_list.r",
     "varRefreshCmd": "cat(var_dic_list()) "
    }
   },
   "position": {
    "height": "437.85px",
    "left": "557px",
    "right": "20px",
    "top": "120px",
    "width": "350px"
   },
   "types_to_exclude": [
    "module",
    "function",
    "builtin_function_or_method",
    "instance",
    "_Feature"
   ],
   "window_display": false
  }
 },
 "nbformat": 4,
 "nbformat_minor": 2
}
