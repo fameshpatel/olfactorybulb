{
 "cells": [
  {
   "cell_type": "code",
   "execution_count": 1,
   "metadata": {},
   "outputs": [],
   "source": [
    "import numpy as np\n",
    "from __future__ import print_function\n",
    "from ipywidgets import interact, interactive, fixed, interact_manual\n",
    "import ipywidgets as widgets\n",
    "from ipywidgets import FloatSlider"
   ]
  },
  {
   "cell_type": "code",
   "execution_count": 2,
   "metadata": {},
   "outputs": [],
   "source": [
    "from prev_ob_models.Birgiolas2020.isolated_cells import MC1"
   ]
  },
  {
   "cell_type": "code",
   "execution_count": 3,
   "metadata": {},
   "outputs": [],
   "source": [
    "mc = MC1()"
   ]
  },
  {
   "cell_type": "code",
   "execution_count": 4,
   "metadata": {},
   "outputs": [],
   "source": [
    "from neuron import h\n",
    "\n",
    "vec = h.Vector()\n",
    "vec.record(mc.cell.soma(0.5)._ref_v, 0.5)\n",
    "\n",
    "\n",
    "h.tstop = 10000\n",
    "\n",
    "#h.newPlotV()"
   ]
  },
  {
   "cell_type": "code",
   "execution_count": 5,
   "metadata": {},
   "outputs": [],
   "source": [
    "ic = h.IClamp(mc.cell.soma(0.5))\n",
    "ic2 = h.IClamp(mc.cell.soma(0.5))\n",
    "ic3 = h.IClamp(mc.cell.soma(0.5))"
   ]
  },
  {
   "cell_type": "code",
   "execution_count": 6,
   "metadata": {},
   "outputs": [],
   "source": [
    "ic.delay = 1000\n",
    "ic.dur = 2000\n",
    "ic.amp = -0.1\n",
    "\n",
    "\n",
    "ic2.delay = 4000\n",
    "ic2.dur = 2000\n",
    "ic2.amp = 0.111\n",
    "\n",
    "\n",
    "ic3.delay = 7000\n",
    "ic3.dur = 2000\n",
    "ic3.amp = 0.111*2"
   ]
  },
  {
   "cell_type": "code",
   "execution_count": 7,
   "metadata": {},
   "outputs": [],
   "source": [
    "params = [    \n",
    "    { \"start\": 1,  \"attr\": \"diam\",        \"low\": 0.1, \"high\": 10.0, \"lists\": [\"apical\",\"basal\",\"axonal\"] },\n",
    "    { \"start\": 34.77,  \"attr\": \"Ra\",        \"low\": 5.0, \"high\": 100.0, \"lists\": [\"all\"] },\n",
    "    { \"start\": 2.706,   \"attr\": \"cm\",        \"low\": 0.1, \"high\": 4.0, \"lists\": [\"all\"] },\n",
    "    { \"start\": 49.95,  \"attr\": \"ena\",       \"low\": 40.0, \"high\": 50.0, \"lists\": [\"all\"] },\n",
    "    { \"start\": -70.03,  \"attr\": \"ek\",        \"low\": -100.0, \"high\": -70.0, \"lists\": [\"all\"] },\n",
    "    { \"start\": -64.42,  \"attr\": \"e_pas\",     \"low\": -70.0, \"high\": -50.0, \"lists\": [\"all\"] },\n",
    "    { \"start\": 0.0005955, \"attr\": \"g_pas\",     \"low\": 0, \"high\": 0.00004, \"lists\": [\"all\"] },    \n",
    "    { \"start\": 0.5955,  \"attr\": \"sh_Na\",     \"low\": 0, \"high\": 10, \"lists\": [\"all\"] },    \n",
    "    { \"start\": 10,  \"attr\": \"tau_CaPool\",     \"low\": 1, \"high\": 20, \"lists\": [\"all\"] },    \n",
    "\n",
    "    { \"start\":  0.87485,  \"attr\": \"gbar_Na\",     \"low\": 0, \"high\": 0.05, \"lists\": [\"all\"] },\n",
    "    { \"start\": 0.0297,  \"attr\": \"gbar_Kd\",     \"low\": 0, \"high\": 0.05, \"lists\": [\"all\"] },\n",
    "    { \"start\": 0.000264,  \"attr\": \"gbar_Kslow\",  \"low\": 0, \"high\": 0.008, \"lists\": [\"all\"] },\n",
    "    { \"start\": 0.07215,  \"attr\": \"gbar_KA\",     \"low\": 0, \"high\": 0.005, \"lists\": [\"all\"] },\n",
    "    { \"start\": 0.001,  \"attr\": \"gbar_KCa\",    \"low\": 0, \"high\": 0.004, \"lists\": [\"all\"] },\n",
    "    { \"start\": 0.00081441,  \"attr\": \"gbar_LCa\",  \"low\": 0, \"high\": 0.001, \"lists\": [\"all\"] },\n",
    "    \n",
    "    { \"start\": -30.805,  \"attr\": \"eh\",       \"low\": -40.0, \"high\": -25.0, \"lists\": [\"apical\"] },\n",
    "    { \"start\": 0.00335,  \"attr\": \"gbar_Ih\",    \"low\": 0, \"high\": 0.000003, \"lists\": [\"apical\"] },\n",
    "    { \"start\": 0.000107,  \"attr\": \"gbar_CaT\",    \"low\": 0, \"high\": 18e-3, \"lists\": [\"apical\"] },\n",
    "]"
   ]
  },
  {
   "cell_type": "code",
   "execution_count": 8,
   "metadata": {},
   "outputs": [],
   "source": [
    "best = [1.773051893650683, 74.96098299752722, 1.450513328526805, 42.92948012343444, -71.84425377590625, -51.23433621786335, 2.9304959431139075e-05, 3.152698788882295, 7.579423908207511, 0.015851184292851737, 0.037209198990218094, 0.003924149626105452, 0.0027768563151759043, 0.0028298960787463694, 0.0007113142852611262, -27.103300735611214, 1.1647718167252678e-06, 0.014326453571032521]\n",
    "\n",
    "for i, p in enumerate(params):\n",
    "    params[i][\"start\"] = best[i]"
   ]
  },
  {
   "cell_type": "code",
   "execution_count": 9,
   "metadata": {},
   "outputs": [],
   "source": [
    "kwargs = {}\n",
    "for pi, pv in enumerate(params):\n",
    "    #print(pv[\"attr\"])\n",
    "    kwargs[pv[\"attr\"]+\"|\"+str(pv[\"lists\"])] = FloatSlider(\n",
    "        value=pv[\"start\"],\n",
    "        min=pv[\"low\"],\n",
    "        max=pv[\"high\"],\n",
    "        step=(pv[\"high\"]-pv[\"low\"])/100.0,\n",
    "        continuous_update=False,\n",
    "        readout_format='.9f',\n",
    "        description=(pv[\"attr\"]+\"|\"+str(pv[\"lists\"][0])).replace(\"gbar_\",\"g\")\n",
    "    )\n",
    "#kwargs"
   ]
  },
  {
   "cell_type": "code",
   "execution_count": 10,
   "metadata": {},
   "outputs": [],
   "source": [
    "def evaluate(**kwargs):   \n",
    "    param_keys = kwargs.keys()\n",
    "    \n",
    "    for key in param_keys:\n",
    "        attr = key.split(\"|\")[0]\n",
    "        lists = eval(key.split(\"|\")[1])\n",
    "        \n",
    "        for param_list in lists:\n",
    "            for sec in getattr(mc.cell, param_list):\n",
    "                if attr == \"tau_CaPool\":\n",
    "                    setattr(h, attr, kwargs[key])\n",
    "                elif attr == \"diam\":\n",
    "                    setattr(sec, attr, kwargs[key]*getattr(sec, attr))\n",
    "                else:\n",
    "                    setattr(sec, attr, kwargs[key])\n",
    "        \n",
    "    h.run()\n",
    "    \n",
    "    from matplotlib import pyplot as plt\n",
    "    plt.plot(vec.as_numpy())\n",
    "    plt.show()\n",
    "    \n",
    "    return mc.cell.soma(0.5).v"
   ]
  },
  {
   "cell_type": "code",
   "execution_count": null,
   "metadata": {},
   "outputs": [],
   "source": []
  },
  {
   "cell_type": "code",
   "execution_count": 11,
   "metadata": {},
   "outputs": [],
   "source": [
    "from neuron import gui"
   ]
  },
  {
   "cell_type": "code",
   "execution_count": 12,
   "metadata": {},
   "outputs": [
    {
     "data": {
      "text/plain": [
       "0.0"
      ]
     },
     "execution_count": 12,
     "metadata": {},
     "output_type": "execute_result"
    }
   ],
   "source": [
    "h.newPlotV()"
   ]
  },
  {
   "cell_type": "code",
   "execution_count": 13,
   "metadata": {},
   "outputs": [
    {
     "data": {
      "application/vnd.jupyter.widget-view+json": {
       "model_id": "e42cefa44c2c40e7899887c386fb1a91",
       "version_major": 2,
       "version_minor": 0
      },
      "text/plain": [
       "aW50ZXJhY3RpdmUoY2hpbGRyZW49KEZsb2F0U2xpZGVyKHZhbHVlPTQyLjkyOTQ4MDEyMzQzNDQ0LCBjb250aW51b3VzX3VwZGF0ZT1GYWxzZSwgZGVzY3JpcHRpb249dSdlbmF8YWxsJywgbWHigKY=\n"
      ]
     },
     "metadata": {},
     "output_type": "display_data"
    }
   ],
   "source": [
    "interact(evaluate, **kwargs);"
   ]
  },
  {
   "cell_type": "code",
   "execution_count": null,
   "metadata": {},
   "outputs": [],
   "source": []
  }
 ],
 "metadata": {
  "kernelspec": {
   "display_name": "Python 2",
   "language": "python",
   "name": "python2"
  },
  "language_info": {
   "codemirror_mode": {
    "name": "ipython",
    "version": 2
   },
   "file_extension": ".py",
   "mimetype": "text/x-python",
   "name": "python",
   "nbconvert_exporter": "python",
   "pygments_lexer": "ipython2",
   "version": "2.7.14"
  },
  "varInspector": {
   "cols": {
    "lenName": 16,
    "lenType": 16,
    "lenVar": 40
   },
   "kernels_config": {
    "python": {
     "delete_cmd_postfix": "",
     "delete_cmd_prefix": "del ",
     "library": "var_list.py",
     "varRefreshCmd": "print(var_dic_list())"
    },
    "r": {
     "delete_cmd_postfix": ") ",
     "delete_cmd_prefix": "rm(",
     "library": "var_list.r",
     "varRefreshCmd": "cat(var_dic_list()) "
    }
   },
   "types_to_exclude": [
    "module",
    "function",
    "builtin_function_or_method",
    "instance",
    "_Feature"
   ],
   "window_display": false
  }
 },
 "nbformat": 4,
 "nbformat_minor": 2
}
