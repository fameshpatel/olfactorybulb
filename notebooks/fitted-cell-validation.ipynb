{
 "cells": [
  {
   "cell_type": "code",
   "execution_count": 1,
   "metadata": {
    "scrolled": false
   },
   "outputs": [
    {
     "name": "stderr",
     "output_type": "stream",
     "text": [
      "/home/justas/anaconda2/envs/p27/lib/python2.7/site-packages/h5py/__init__.py:36: FutureWarning: Conversion of the second argument of issubdtype from `float` to `np.floating` is deprecated. In future, it will be treated as `np.float64 == np.dtype(float).type`.\n",
      "  from ._conv import register_converters as _register_converters\n"
     ]
    },
    {
     "name": "stdout",
     "output_type": "stream",
     "text": [
      "Could not load NEURONBackend\n"
     ]
    }
   ],
   "source": [
    "import os; os.chdir('..')\n",
    "import multiprocessing\n",
    "from prev_ob_models.Birgiolas2020.fitting import *"
   ]
  },
  {
   "cell_type": "code",
   "execution_count": 2,
   "metadata": {
    "scrolled": false
   },
   "outputs": [
    {
     "name": "stdout",
     "output_type": "stream",
     "text": [
      "('Starting gc FITTER for model:', 'prev_ob_models.Birgiolas2020.isolated_cells.GC1')\n",
      "('prev_ob_models.Birgiolas2020.isolated_cells.GC1', 'SCORE', 3.6390524430328814)\n",
      "                              prev_ob_models.Birgiolas2020.isolated_cells.GC1\n",
      "AfterDepolarizationDepthTest                           0.00043013247737633264\n",
      "AfterDepolarizationTimeTest                               -1.6363636363636358\n",
      "CellCapacitanceTest                                       -0.5127547518703688\n",
      "FISlopeTest                                               -2.0303030303030303\n",
      "InputResistanceTest                                        0.5080314499843865\n",
      "MembraneTimeConstantTest                                   0.8863636363636364\n",
      "ReboundSpikingTest                                                        0.0\n",
      "RestingVoltageTest                                         0.6852657588439125\n",
      "RheobaseTest                                               0.7669810509158402\n",
      "SagVoltageTest                                             1.9589599290643576\n",
      "SpikeAccommodationTest                                    -0.4082465809348843\n",
      "SpikeAmplitudeTest                                      [0.23312790043313628]\n",
      "SpikeHalfWidthTest                                     -5.796532844358712e-13\n",
      "SpikeThresholdTest                                      [0.14087328369491195]\n",
      "model                         prev_ob_models.Birgiolas2020.isolated_cells.GC1\n",
      "35.99% of range. Val: 1.14369979806 Low: 0.1 High: 3.0 ATTR: diam in ['apical']\n",
      "29.25% of range. Val: 38.6358851212 Low: 5.0 High: 120.0 ATTR: Ra in ['all']\n",
      "12.37% of range. Val: 1.32462442442 Low: 0.1 High: 10.0 ATTR: cm in ['all']\n",
      "29.11% of range. Val: 21.644563059 Low: 10.0 High: 50.0 ATTR: ena in ['all']\n",
      "30.77% of range. Val: -78.4595897679 Low: -100.0 High: -30.0 ATTR: ek in ['all']\n",
      "31.65% of range. Val: -84.1769716277 Low: -100.0 High: -50.0 ATTR: e_pas in ['all']\n",
      "1.76% of range. Val: 3.52324610199e-05 Low: 0 High: 0.002 ATTR: g_pas in ['all']\n",
      "48.07% of range. Val: 4.80689728702 Low: 0 High: 10 ATTR: sh_Na in ['all']\n",
      "64.31% of range. Val: 0.0643060955999 Low: 0 High: 0.1 ATTR: gbar_Na in ['all']\n",
      "36.91% of range. Val: 0.147633496964 Low: 0 High: 0.4 ATTR: gbar_Kd in ['all']\n",
      "1.37% of range. Val: 0.00548325621865 Low: 0 High: 0.4 ATTR: gbar_KA in ['somatic']\n",
      "86.56% of range. Val: -16.7180860768 Low: -60.0 High: -10.0 ATTR: eh in ['somatic']\n",
      "1.16% of range. Val: 1.15538746694e-06 Low: 0 High: 0.0001 ATTR: gbar_Ih in ['somatic']\n",
      "54.10% of range. Val: 0.0703331611112 Low: 0 High: 0.13 ATTR: gbar_KM in ['somatic']\n",
      "('Starting gc FITTER for model:', 'prev_ob_models.Birgiolas2020.isolated_cells.GC2')\n"
     ]
    },
    {
     "name": "stderr",
     "output_type": "stream",
     "text": [
      "/home/justas/anaconda2/envs/p27/lib/python2.7/site-packages/deap/creator.py:141: RuntimeWarning: A class named 'FitnessMin' has already been created and it will be overwritten. Consider deleting previous creation of that class or rename it.\n",
      "  RuntimeWarning)\n",
      "/home/justas/anaconda2/envs/p27/lib/python2.7/site-packages/deap/creator.py:141: RuntimeWarning: A class named 'Individual' has already been created and it will be overwritten. Consider deleting previous creation of that class or rename it.\n",
      "  RuntimeWarning)\n"
     ]
    },
    {
     "name": "stdout",
     "output_type": "stream",
     "text": [
      "('prev_ob_models.Birgiolas2020.isolated_cells.GC2', 'SCORE', 3.4361565124298883)\n",
      "                              prev_ob_models.Birgiolas2020.isolated_cells.GC2\n",
      "AfterDepolarizationDepthTest                            0.0004070521279402328\n",
      "AfterDepolarizationTimeTest                               0.24431818181817921\n",
      "CellCapacitanceTest                                       -0.5955105537678627\n",
      "FISlopeTest                                               -1.2121212121212122\n",
      "InputResistanceTest                                       -0.4083645276383939\n",
      "MembraneTimeConstantTest                                 -0.25000000000000006\n",
      "ReboundSpikingTest                                                        0.0\n",
      "RestingVoltageTest                                       -0.07256013635619041\n",
      "RheobaseTest                                                0.653052918191078\n",
      "SagVoltageTest                                              2.955764764199244\n",
      "SpikeAccommodationTest                                     0.4625346901017586\n",
      "SpikeAmplitudeTest                                       [0.4248449299586614]\n",
      "SpikeHalfWidthTest                                     -5.796532844358712e-13\n",
      "SpikeThresholdTest                                      [0.36280547902793686]\n",
      "model                         prev_ob_models.Birgiolas2020.isolated_cells.GC2\n",
      "14.43% of range. Val: 0.518568993697 Low: 0.1 High: 3.0 ATTR: diam in ['apical']\n",
      "15.07% of range. Val: 22.3310965754 Low: 5.0 High: 120.0 ATTR: Ra in ['all']\n",
      "39.39% of range. Val: 3.99915510662 Low: 0.1 High: 10.0 ATTR: cm in ['all']\n",
      "86.37% of range. Val: 44.5483693991 Low: 10.0 High: 50.0 ATTR: ena in ['all']\n",
      "64.05% of range. Val: -55.1652809008 Low: -100.0 High: -30.0 ATTR: ek in ['all']\n",
      "21.41% of range. Val: -89.2946356025 Low: -100.0 High: -50.0 ATTR: e_pas in ['all']\n",
      "9.18% of range. Val: 0.000183688093668 Low: 0 High: 0.002 ATTR: g_pas in ['all']\n",
      "27.76% of range. Val: 2.77600360135 Low: 0 High: 10 ATTR: sh_Na in ['all']\n",
      "74.65% of range. Val: 0.0746515631013 Low: 0 High: 0.1 ATTR: gbar_Na in ['all']\n",
      "53.03% of range. Val: 0.212110960208 Low: 0 High: 0.4 ATTR: gbar_Kd in ['all']\n",
      "12.35% of range. Val: 0.049412958656 Low: 0 High: 0.4 ATTR: gbar_KA in ['somatic']\n",
      "13.12% of range. Val: -53.4411385168 Low: -60.0 High: -10.0 ATTR: eh in ['somatic']\n",
      "2.55% of range. Val: 2.54852853405e-06 Low: 0 High: 0.0001 ATTR: gbar_Ih in ['somatic']\n",
      "5.12% of range. Val: 0.00666063040933 Low: 0 High: 0.13 ATTR: gbar_KM in ['somatic']\n",
      "('Starting gc FITTER for model:', 'prev_ob_models.Birgiolas2020.isolated_cells.GC3')\n",
      "('prev_ob_models.Birgiolas2020.isolated_cells.GC3', 'SCORE', 3.836260810677486)\n",
      "                              prev_ob_models.Birgiolas2020.isolated_cells.GC3\n",
      "AfterDepolarizationDepthTest                          -0.00019683616716292818\n",
      "AfterDepolarizationTimeTest                               -1.4829545454545394\n",
      "CellCapacitanceTest                                       -0.7228242789744563\n",
      "FISlopeTest                                               -0.9090909090909091\n",
      "InputResistanceTest                                       0.06245339678341265\n",
      "MembraneTimeConstantTest                                   0.2045454545454545\n",
      "ReboundSpikingTest                                                        0.0\n",
      "RestingVoltageTest                                        -1.1510861149849596\n",
      "RheobaseTest                                               0.6940911537903199\n",
      "SagVoltageTest                                              2.951278455420285\n",
      "SpikeAccommodationTest                                                    0.0\n",
      "SpikeAmplitudeTest                                       [0.1838607645680419]\n",
      "SpikeHalfWidthTest                                         0.6578947368423297\n",
      "SpikeThresholdTest                                      [0.37369203239831833]\n",
      "model                         prev_ob_models.Birgiolas2020.isolated_cells.GC3\n",
      "28.51% of range. Val: 0.926901441192 Low: 0.1 High: 3.0 ATTR: diam in ['apical']\n",
      "56.89% of range. Val: 70.4217157366 Low: 5.0 High: 120.0 ATTR: Ra in ['all']\n",
      "18.90% of range. Val: 1.97134227462 Low: 0.1 High: 10.0 ATTR: cm in ['all']\n",
      "92.77% of range. Val: 47.107745396 Low: 10.0 High: 50.0 ATTR: ena in ['all']\n",
      "56.30% of range. Val: -60.5888373035 Low: -100.0 High: -30.0 ATTR: ek in ['all']\n",
      "8.44% of range. Val: -95.7809271486 Low: -100.0 High: -50.0 ATTR: e_pas in ['all']\n",
      "3.03% of range. Val: 6.06121468541e-05 Low: 0 High: 0.002 ATTR: g_pas in ['all']\n",
      "16.25% of range. Val: 1.62519397568 Low: 0 High: 10 ATTR: sh_Na in ['all']\n",
      "28.14% of range. Val: 0.0281390285658 Low: 0 High: 0.1 ATTR: gbar_Na in ['all']\n",
      "20.43% of range. Val: 0.0817222051988 Low: 0 High: 0.4 ATTR: gbar_Kd in ['all']\n",
      "4.90% of range. Val: 0.0196047217167 Low: 0 High: 0.4 ATTR: gbar_KA in ['somatic']\n",
      "34.55% of range. Val: -42.7246497632 Low: -60.0 High: -10.0 ATTR: eh in ['somatic']\n",
      "0.41% of range. Val: 4.05643859646e-07 Low: 0 High: 0.0001 ATTR: gbar_Ih in ['somatic']\n",
      "2.69% of range. Val: 0.00349892285241 Low: 0 High: 0.13 ATTR: gbar_KM in ['somatic']\n",
      "('Starting gc FITTER for model:', 'prev_ob_models.Birgiolas2020.isolated_cells.GC4')\n",
      "('prev_ob_models.Birgiolas2020.isolated_cells.GC4', 'SCORE', 4.884286174141071)\n",
      "                              prev_ob_models.Birgiolas2020.isolated_cells.GC4\n",
      "AfterDepolarizationDepthTest                            0.0001504887643903885\n",
      "AfterDepolarizationTimeTest                                -1.721590909090902\n",
      "CellCapacitanceTest                                        -2.220505369925414\n",
      "FISlopeTest                                               -1.9696969696969697\n",
      "InputResistanceTest                                        0.5866246832284395\n",
      "MembraneTimeConstantTest                                  -0.5530303030303031\n",
      "ReboundSpikingTest                                                        0.0\n",
      "RestingVoltageTest                                         1.3313747258156454\n",
      "RheobaseTest                                             -0.20400076864167924\n",
      "SagVoltageTest                                             2.9585121927810736\n",
      "SpikeAccommodationTest                                                    0.0\n",
      "SpikeAmplitudeTest                                      [0.04123180354247561]\n",
      "SpikeHalfWidthTest                                         0.6578947368423297\n",
      "SpikeThresholdTest                                       [0.6561706708479648]\n",
      "model                         prev_ob_models.Birgiolas2020.isolated_cells.GC4\n",
      "14.19% of range. Val: 0.511487562101 Low: 0.1 High: 3.0 ATTR: diam in ['apical']\n",
      "44.60% of range. Val: 56.2879786833 Low: 5.0 High: 120.0 ATTR: Ra in ['all']\n",
      "29.49% of range. Val: 3.01967913425 Low: 0.1 High: 10.0 ATTR: cm in ['all']\n",
      "99.96% of range. Val: 49.9856722537 Low: 10.0 High: 50.0 ATTR: ena in ['all']\n",
      "40.84% of range. Val: -71.4124684473 Low: -100.0 High: -30.0 ATTR: ek in ['all']\n",
      "40.48% of range. Val: -79.7583023124 Low: -100.0 High: -50.0 ATTR: e_pas in ['all']\n",
      "6.50% of range. Val: 0.000130007256965 Low: 0 High: 0.002 ATTR: g_pas in ['all']\n",
      "24.06% of range. Val: 2.40571478033 Low: 0 High: 10 ATTR: sh_Na in ['all']\n",
      "44.10% of range. Val: 0.0440977440186 Low: 0 High: 0.1 ATTR: gbar_Na in ['all']\n",
      "23.80% of range. Val: 0.0951922382911 Low: 0 High: 0.4 ATTR: gbar_Kd in ['all']\n",
      "5.00% of range. Val: 0.0199893756855 Low: 0 High: 0.4 ATTR: gbar_KA in ['somatic']\n",
      "42.48% of range. Val: -38.7588912083 Low: -60.0 High: -10.0 ATTR: eh in ['somatic']\n",
      "3.07% of range. Val: 3.0735236928e-06 Low: 0 High: 0.0001 ATTR: gbar_Ih in ['somatic']\n",
      "80.91% of range. Val: 0.105177408998 Low: 0 High: 0.13 ATTR: gbar_KM in ['somatic']\n",
      "('Starting gc FITTER for model:', 'prev_ob_models.Birgiolas2020.isolated_cells.GC5')\n",
      "('prev_ob_models.Birgiolas2020.isolated_cells.GC5', 'SCORE', 4.181181533903619)\n",
      "                              prev_ob_models.Birgiolas2020.isolated_cells.GC5\n",
      "AfterDepolarizationDepthTest                               0.1489532819893924\n",
      "AfterDepolarizationTimeTest                               -1.6363636363636358\n",
      "CellCapacitanceTest                                       -0.5199730701813992\n",
      "FISlopeTest                                               -1.9393939393939397\n",
      "InputResistanceTest                                       -0.2058597587714841\n",
      "MembraneTimeConstantTest                                 0.053030303030302976\n",
      "ReboundSpikingTest                                                        0.0\n",
      "RestingVoltageTest                                        -0.0859084911563599\n",
      "RheobaseTest                                               0.5440857781392812\n",
      "SagVoltageTest                                              2.969488373985935\n",
      "SpikeAccommodationTest                                    -0.5870841487279819\n",
      "SpikeAmplitudeTest                                       [0.8971113337553133]\n",
      "SpikeHalfWidthTest                                         0.6578947368423297\n",
      "SpikeThresholdTest                                      [0.04496505272626358]\n",
      "model                         prev_ob_models.Birgiolas2020.isolated_cells.GC5\n",
      "11.92% of range. Val: 0.445819663844 Low: 0.1 High: 3.0 ATTR: diam in ['apical']\n",
      "0.46% of range. Val: 5.53087243826 Low: 5.0 High: 120.0 ATTR: Ra in ['all']\n",
      "39.26% of range. Val: 3.98678396875 Low: 0.1 High: 10.0 ATTR: cm in ['all']\n",
      "75.07% of range. Val: 40.0269869692 Low: 10.0 High: 50.0 ATTR: ena in ['all']\n",
      "16.02% of range. Val: -88.7858211431 Low: -100.0 High: -30.0 ATTR: ek in ['all']\n",
      "23.08% of range. Val: -88.461223345 Low: -100.0 High: -50.0 ATTR: e_pas in ['all']\n",
      "7.27% of range. Val: 0.000145411469876 Low: 0 High: 0.002 ATTR: g_pas in ['all']\n",
      "8.94% of range. Val: 0.894043495024 Low: 0 High: 10 ATTR: sh_Na in ['all']\n",
      "66.63% of range. Val: 0.0666327913178 Low: 0 High: 0.1 ATTR: gbar_Na in ['all']\n",
      "21.15% of range. Val: 0.0846098628763 Low: 0 High: 0.4 ATTR: gbar_Kd in ['all']\n",
      "4.94% of range. Val: 0.0197745719115 Low: 0 High: 0.4 ATTR: gbar_KA in ['somatic']\n",
      "51.72% of range. Val: -34.1422178841 Low: -60.0 High: -10.0 ATTR: eh in ['somatic']\n",
      "3.59% of range. Val: 3.59330459206e-06 Low: 0 High: 0.0001 ATTR: gbar_Ih in ['somatic']\n",
      "11.35% of range. Val: 0.0147600380651 Low: 0 High: 0.13 ATTR: gbar_KM in ['somatic']\n"
     ]
    }
   ],
   "source": [
    "types = ['gc']#, 'mc', 'tc']\n",
    "\n",
    "for type in types:\n",
    "    for i in range(1,6):\n",
    "        fitter = CellFitter(cell_type=type, fitting_model_class=\"prev_ob_models.Birgiolas2020.isolated_cells.\"+type.upper()+str(i))\n",
    "        #fitter.clear_cache()\n",
    "        fitter.best = []\n",
    "        df, score = fitter.get_best_score()\n",
    "        print(fitter.fitting_model_class, \"SCORE\", score[\"model_score\"])\n",
    "        print(df.transpose())\n",
    "        fitter.parameter_report(fitter.import_model_class(fitter.fitting_model_class)().param_values)"
   ]
  },
  {
   "cell_type": "code",
   "execution_count": 3,
   "metadata": {},
   "outputs": [
    {
     "ename": "TypeError",
     "evalue": "exceptions must be old-style classes or derived from BaseException, not NoneType",
     "output_type": "error",
     "traceback": [
      "\u001b[0;31m---------------------------------------------------------------------------\u001b[0m",
      "\u001b[0;31mTypeError\u001b[0m                                 Traceback (most recent call last)",
      "\u001b[0;32m<ipython-input-3-9c9a2cba73bf>\u001b[0m in \u001b[0;36m<module>\u001b[0;34m()\u001b[0m\n\u001b[0;32m----> 1\u001b[0;31m \u001b[0;32mraise\u001b[0m\u001b[0;34m\u001b[0m\u001b[0m\n\u001b[0m",
      "\u001b[0;31mTypeError\u001b[0m: exceptions must be old-style classes or derived from BaseException, not NoneType"
     ]
    }
   ],
   "source": [
    "raise"
   ]
  },
  {
   "cell_type": "code",
   "execution_count": null,
   "metadata": {
    "scrolled": true
   },
   "outputs": [],
   "source": [
    "fitter.clear_cache()\n",
    "fitter.fit(int(multiprocessing.cpu_count()*1.5), 45)"
   ]
  }
 ],
 "metadata": {
  "kernelspec": {
   "display_name": "Python 2",
   "language": "python",
   "name": "python2"
  },
  "language_info": {
   "codemirror_mode": {
    "name": "ipython",
    "version": 2
   },
   "file_extension": ".py",
   "mimetype": "text/x-python",
   "name": "python",
   "nbconvert_exporter": "python",
   "pygments_lexer": "ipython2",
   "version": "2.7.14"
  },
  "varInspector": {
   "cols": {
    "lenName": 16,
    "lenType": 16,
    "lenVar": 40
   },
   "kernels_config": {
    "python": {
     "delete_cmd_postfix": "",
     "delete_cmd_prefix": "del ",
     "library": "var_list.py",
     "varRefreshCmd": "print(var_dic_list())"
    },
    "r": {
     "delete_cmd_postfix": ") ",
     "delete_cmd_prefix": "rm(",
     "library": "var_list.r",
     "varRefreshCmd": "cat(var_dic_list()) "
    }
   },
   "position": {
    "height": "437.85px",
    "left": "557px",
    "right": "20px",
    "top": "120px",
    "width": "350px"
   },
   "types_to_exclude": [
    "module",
    "function",
    "builtin_function_or_method",
    "instance",
    "_Feature"
   ],
   "window_display": false
  }
 },
 "nbformat": 4,
 "nbformat_minor": 2
}
