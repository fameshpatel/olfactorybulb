{
 "cells": [
  {
   "cell_type": "code",
   "execution_count": 1,
   "metadata": {
    "scrolled": false
   },
   "outputs": [
    {
     "name": "stderr",
     "output_type": "stream",
     "text": [
      "/home/justas/anaconda2/envs/p27/lib/python2.7/site-packages/h5py/__init__.py:36: FutureWarning: Conversion of the second argument of issubdtype from `float` to `np.floating` is deprecated. In future, it will be treated as `np.float64 == np.dtype(float).type`.\n",
      "  from ._conv import register_converters as _register_converters\n"
     ]
    },
    {
     "name": "stdout",
     "output_type": "stream",
     "text": [
      "Could not load NEURONBackend\n"
     ]
    }
   ],
   "source": [
    "import os; os.chdir(\"..\");\n",
    "import multiprocessing\n",
    "from prev_ob_models.Birgiolas2020.fitting import *"
   ]
  },
  {
   "cell_type": "code",
   "execution_count": 2,
   "metadata": {},
   "outputs": [
    {
     "name": "stdout",
     "output_type": "stream",
     "text": [
      "5\n"
     ]
    }
   ],
   "source": [
    "import sys\n",
    "cell_id = sys.argv[1] if len(sys.argv) > 1 and sys.argv[1].isdigit() else 5\n",
    "print(cell_id)"
   ]
  },
  {
   "cell_type": "code",
   "execution_count": 3,
   "metadata": {},
   "outputs": [
    {
     "name": "stdout",
     "output_type": "stream",
     "text": [
      "('Starting mc FITTER for model:', 'prev_ob_models.Birgiolas2020.isolated_cells.MC5')\n"
     ]
    }
   ],
   "source": [
    "fitter = CellFitter(cell_type=\"mc\", fitting_model_class=\"prev_ob_models.Birgiolas2020.isolated_cells.MC\"+str(cell_id))"
   ]
  },
  {
   "cell_type": "code",
   "execution_count": 4,
   "metadata": {},
   "outputs": [],
   "source": [
    "fitter.clear_cache()"
   ]
  },
  {
   "cell_type": "code",
   "execution_count": null,
   "metadata": {},
   "outputs": [
    {
     "name": "stdout",
     "output_type": "stream",
     "text": [
      "('STARTED GEN', 'ZERO', 'size', 2)\n",
      "('DONE with', 1, 'of', 2, 'of GEN', 'ZERO', 'with Fitness', '3.66')\n",
      "('DONE with', 2, 'of', 2, 'of GEN', 'ZERO', 'with Fitness', '3.66')\n",
      "('GEN', 1, 'Parents', 2, 'Elite', 10, 'DIV', 5, 'RND', 5, 'TOT NEW', 20)\n",
      "('STARTED GEN', '1', 'size', 20)\n",
      "Traceback (most recent call last):\n",
      "  File \"prev_ob_models/Birgiolas2020/fitting.py\", line 195, in get_workitem_score\n",
      "    raise Exception(prediction)\n",
      "Exception: Traceback (most recent call last):\n",
      "  File \"/home/justas/Repositories/neuronunit_justasb/neuronunit/tests/olfactory_bulb/__init__.py\", line 30, in generate_prediction\n",
      "    result = self.generate_prediction_nocache(model)\n",
      "  File \"/home/justas/Repositories/neuronunit_justasb/neuronunit/tests/olfactory_bulb/tests.py\", line 1027, in generate_prediction_nocache\n",
      "    freq_targetHz, crossings, voltage = self.get_dependent_prediction(TargetFreqTestHelper, model)\n",
      "ValueError: too many values to unpack\n",
      "\n",
      "\n",
      "Traceback (most recent call last):\n",
      "  File \"prev_ob_models/Birgiolas2020/fitting.py\", line 195, in get_workitem_score\n",
      "    raise Exception(prediction)\n",
      "Exception: Traceback (most recent call last):\n",
      "  File \"/home/justas/Repositories/neuronunit_justasb/neuronunit/tests/olfactory_bulb/__init__.py\", line 30, in generate_prediction\n",
      "    result = self.generate_prediction_nocache(model)\n",
      "  File \"/home/justas/Repositories/neuronunit_justasb/neuronunit/tests/olfactory_bulb/tests.py\", line 385, in generate_prediction_nocache\n",
      "    return ap[\"threshold_v\"]\n",
      "TypeError: string indices must be integers, not str\n",
      "\n",
      "\n",
      "Traceback (most recent call last):\n",
      "  File \"prev_ob_models/Birgiolas2020/fitting.py\", line 195, in get_workitem_score\n",
      "    raise Exception(prediction)\n",
      "Exception: Traceback (most recent call last):\n",
      "  File \"/home/justas/Repositories/neuronunit_justasb/neuronunit/tests/olfactory_bulb/__init__.py\", line 30, in generate_prediction\n",
      "    result = self.generate_prediction_nocache(model)\n",
      "  File \"/home/justas/Repositories/neuronunit_justasb/neuronunit/tests/olfactory_bulb/tests.py\", line 385, in generate_prediction_nocache\n",
      "    return ap[\"threshold_v\"]\n",
      "TypeError: string indices must be integers, not str\n",
      "\n",
      "\n",
      "Traceback (most recent call last):\n",
      "  File \"prev_ob_models/Birgiolas2020/fitting.py\", line 195, in get_workitem_score\n",
      "    raise Exception(prediction)\n",
      "Exception: Traceback (most recent call last):\n",
      "  File \"/home/justas/Repositories/neuronunit_justasb/neuronunit/tests/olfactory_bulb/__init__.py\", line 30, in generate_prediction\n",
      "    result = self.generate_prediction_nocache(model)\n",
      "  File \"/home/justas/Repositories/neuronunit_justasb/neuronunit/tests/olfactory_bulb/tests.py\", line 1072, in generate_prediction_nocache\n",
      "    freq_targetHz, crossings, voltage = self.get_dependent_prediction(TargetFreqTestHelper, model)\n",
      "ValueError: too many values to unpack\n",
      "\n",
      "\n",
      "Traceback (most recent call last):\n",
      "  File \"prev_ob_models/Birgiolas2020/fitting.py\", line 195, in get_workitem_score\n",
      "    raise Exception(prediction)\n",
      "Exception: Traceback (most recent call last):\n",
      "  File \"/home/justas/Repositories/neuronunit_justasb/neuronunit/tests/olfactory_bulb/__init__.py\", line 30, in generate_prediction\n",
      "    result = self.generate_prediction_nocache(model)\n",
      "  File \"/home/justas/Repositories/neuronunit_justasb/neuronunit/tests/olfactory_bulb/tests.py\", line 1027, in generate_prediction_nocache\n",
      "    freq_targetHz, crossings, voltage = self.get_dependent_prediction(TargetFreqTestHelper, model)\n",
      "ValueError: too many values to unpack\n",
      "\n",
      "\n",
      "Traceback (most recent call last):\n",
      "  File \"prev_ob_models/Birgiolas2020/fitting.py\", line 195, in get_workitem_score\n",
      "    raise Exception(prediction)\n",
      "Exception: Traceback (most recent call last):\n",
      "  File \"/home/justas/Repositories/neuronunit_justasb/neuronunit/tests/olfactory_bulb/__init__.py\", line 30, in generate_prediction\n",
      "    result = self.generate_prediction_nocache(model)\n",
      "  File \"/home/justas/Repositories/neuronunit_justasb/neuronunit/tests/olfactory_bulb/tests.py\", line 415, in generate_prediction_nocache\n",
      "    return ap[\"amplitude\"]\n",
      "TypeError: string indices must be integers, not str\n",
      "\n",
      "\n",
      "Traceback (most recent call last):\n",
      "  File \"prev_ob_models/Birgiolas2020/fitting.py\", line 195, in get_workitem_score\n",
      "    raise Exception(prediction)\n",
      "Exception: Traceback (most recent call last):\n",
      "  File \"/home/justas/Repositories/neuronunit_justasb/neuronunit/tests/olfactory_bulb/__init__.py\", line 30, in generate_prediction\n",
      "    result = self.generate_prediction_nocache(model)\n",
      "  File \"/home/justas/Repositories/neuronunit_justasb/neuronunit/tests/olfactory_bulb/tests.py\", line 415, in generate_prediction_nocache\n",
      "    return ap[\"amplitude\"]\n",
      "TypeError: string indices must be integers, not str\n",
      "\n",
      "\n",
      "Traceback (most recent call last):\n",
      "  File \"prev_ob_models/Birgiolas2020/fitting.py\", line 195, in get_workitem_score\n",
      "    raise Exception(prediction)\n",
      "Exception: Traceback (most recent call last):\n",
      "  File \"/home/justas/Repositories/neuronunit_justasb/neuronunit/tests/olfactory_bulb/__init__.py\", line 30, in generate_prediction\n",
      "    result = self.generate_prediction_nocache(model)\n",
      "  File \"/home/justas/Repositories/neuronunit_justasb/neuronunit/tests/olfactory_bulb/tests.py\", line 442, in generate_prediction_nocache\n",
      "    return ap[\"half_width\"]\n",
      "TypeError: string indices must be integers, not str\n",
      "\n",
      "\n",
      "Traceback (most recent call last):\n",
      "  File \"prev_ob_models/Birgiolas2020/fitting.py\", line 195, in get_workitem_score\n",
      "    raise Exception(prediction)\n",
      "Exception: Traceback (most recent call last):\n",
      "  File \"/home/justas/Repositories/neuronunit_justasb/neuronunit/tests/olfactory_bulb/__init__.py\", line 30, in generate_prediction\n",
      "    result = self.generate_prediction_nocache(model)\n",
      "  File \"/home/justas/Repositories/neuronunit_justasb/neuronunit/tests/olfactory_bulb/tests.py\", line 442, in generate_prediction_nocache\n",
      "    return ap[\"half_width\"]\n",
      "TypeError: string indices must be integers, not str\n",
      "\n",
      "\n",
      "Traceback (most recent call last):\n",
      "  File \"prev_ob_models/Birgiolas2020/fitting.py\", line 195, in get_workitem_score\n",
      "    raise Exception(prediction)\n",
      "Exception: Traceback (most recent call last):\n",
      "  File \"/home/justas/Repositories/neuronunit_justasb/neuronunit/tests/olfactory_bulb/__init__.py\", line 30, in generate_prediction\n",
      "    result = self.generate_prediction_nocache(model)\n",
      "  File \"/home/justas/Repositories/neuronunit_justasb/neuronunit/tests/olfactory_bulb/tests.py\", line 625, in generate_prediction_nocache\n",
      "    _, _, voltage = self.get_dependent_prediction(TargetFreqTestHelper, model)\n",
      "ValueError: too many values to unpack\n",
      "\n",
      "\n",
      "Traceback (most recent call last):\n",
      "  File \"prev_ob_models/Birgiolas2020/fitting.py\", line 195, in get_workitem_score\n",
      "    raise Exception(prediction)\n",
      "Exception: Traceback (most recent call last):\n",
      "  File \"/home/justas/Repositories/neuronunit_justasb/neuronunit/tests/olfactory_bulb/__init__.py\", line 30, in generate_prediction\n",
      "    result = self.generate_prediction_nocache(model)\n",
      "  File \"/home/justas/Repositories/neuronunit_justasb/neuronunit/tests/olfactory_bulb/tests.py\", line 954, in generate_prediction_nocache\n",
      "    freq_targetHz, crossings, voltage = self.get_dependent_prediction(TargetFreqTestHelper, model)\n",
      "ValueError: too many values to unpack\n",
      "\n",
      "\n",
      "Traceback (most recent call last):\n",
      "  File \"prev_ob_models/Birgiolas2020/fitting.py\", line 195, in get_workitem_score\n",
      "    raise Exception(prediction)\n",
      "Exception: Traceback (most recent call last):\n",
      "  File \"/home/justas/Repositories/neuronunit_justasb/neuronunit/tests/olfactory_bulb/__init__.py\", line 30, in generate_prediction\n",
      "    result = self.generate_prediction_nocache(model)\n",
      "  File \"/home/justas/Repositories/neuronunit_justasb/neuronunit/tests/olfactory_bulb/tests.py\", line 267, in generate_prediction_nocache\n",
      "    raise Exception(\"Negative rheobase: Model produces spikes without stimulation\")\n",
      "Exception: Negative rheobase: Model produces spikes without stimulation\n",
      "\n",
      "\n",
      "Traceback (most recent call last):\n",
      "  File \"prev_ob_models/Birgiolas2020/fitting.py\", line 195, in get_workitem_score\n",
      "    raise Exception(prediction)\n",
      "Exception: Traceback (most recent call last):\n",
      "  File \"/home/justas/Repositories/neuronunit_justasb/neuronunit/tests/olfactory_bulb/__init__.py\", line 30, in generate_prediction\n",
      "    result = self.generate_prediction_nocache(model)\n",
      "  File \"/home/justas/Repositories/neuronunit_justasb/neuronunit/tests/olfactory_bulb/tests.py\", line 400, in generate_prediction_nocache\n",
      "    return ap[\"peak_v\"]\n",
      "TypeError: string indices must be integers, not str\n",
      "\n"
     ]
    },
    {
     "name": "stdout",
     "output_type": "stream",
     "text": [
      "\n",
      "Traceback (most recent call last):\n",
      "  File \"prev_ob_models/Birgiolas2020/fitting.py\", line 195, in get_workitem_score\n",
      "    raise Exception(prediction)\n",
      "Exception: Traceback (most recent call last):\n",
      "  File \"/home/justas/Repositories/neuronunit_justasb/neuronunit/tests/olfactory_bulb/__init__.py\", line 30, in generate_prediction\n",
      "    result = self.generate_prediction_nocache(model)\n",
      "  File \"/home/justas/Repositories/neuronunit_justasb/neuronunit/tests/olfactory_bulb/tests.py\", line 385, in generate_prediction_nocache\n",
      "    return ap[\"threshold_v\"]\n",
      "TypeError: string indices must be integers, not str\n",
      "\n",
      "\n",
      "Traceback (most recent call last):\n",
      "  File \"prev_ob_models/Birgiolas2020/fitting.py\", line 195, in get_workitem_score\n",
      "    raise Exception(prediction)\n",
      "Exception: Traceback (most recent call last):\n",
      "  File \"/home/justas/Repositories/neuronunit_justasb/neuronunit/tests/olfactory_bulb/__init__.py\", line 30, in generate_prediction\n",
      "    result = self.generate_prediction_nocache(model)\n",
      "  File \"/home/justas/Repositories/neuronunit_justasb/neuronunit/tests/olfactory_bulb/tests.py\", line 385, in generate_prediction_nocache\n",
      "    return ap[\"threshold_v\"]\n",
      "TypeError: string indices must be integers, not str\n",
      "\n",
      "\n",
      "Traceback (most recent call last):\n",
      "  File \"prev_ob_models/Birgiolas2020/fitting.py\", line 195, in get_workitem_score\n",
      "    raise Exception(prediction)\n",
      "Exception: Traceback (most recent call last):\n",
      "  File \"/home/justas/Repositories/neuronunit_justasb/neuronunit/tests/olfactory_bulb/__init__.py\", line 30, in generate_prediction\n",
      "    result = self.generate_prediction_nocache(model)\n",
      "  File \"/home/justas/Repositories/neuronunit_justasb/neuronunit/tests/olfactory_bulb/tests.py\", line 1072, in generate_prediction_nocache\n",
      "    freq_targetHz, crossings, voltage = self.get_dependent_prediction(TargetFreqTestHelper, model)\n",
      "ValueError: too many values to unpack\n",
      "\n",
      "\n",
      "Traceback (most recent call last):\n",
      "  File \"prev_ob_models/Birgiolas2020/fitting.py\", line 195, in get_workitem_score\n",
      "    raise Exception(prediction)\n",
      "Exception: Traceback (most recent call last):\n",
      "  File \"/home/justas/Repositories/neuronunit_justasb/neuronunit/tests/olfactory_bulb/__init__.py\", line 30, in generate_prediction\n",
      "    result = self.generate_prediction_nocache(model)\n",
      "  File \"/home/justas/Repositories/neuronunit_justasb/neuronunit/tests/olfactory_bulb/tests.py\", line 626, in generate_prediction_nocache\n",
      "    aps = self.get_aps(voltage)\n",
      "  File \"/home/justas/Repositories/neuronunit_justasb/neuronunit/tests/olfactory_bulb/__init__.py\", line 115, in get_aps\n",
      "    return get_APs(voltage, self.ss_delay, self.threshold_method)\n",
      "  File \"/home/justas/Repositories/neuronunit_justasb/neuronunit/tests/olfactory_bulb/utilities.py\", line 87, in get_APs\n",
      "    ss_delay_point = int(ss_delay * voltage.sampling_rate)+1\n",
      "AttributeError: 'NoneType' object has no attribute 'sampling_rate'\n",
      "\n",
      "\n",
      "Traceback (most recent call last):\n",
      "  File \"prev_ob_models/Birgiolas2020/fitting.py\", line 195, in get_workitem_score\n",
      "    raise Exception(prediction)\n",
      "Exception: Traceback (most recent call last):\n",
      "  File \"/home/justas/Repositories/neuronunit_justasb/neuronunit/tests/olfactory_bulb/__init__.py\", line 30, in generate_prediction\n",
      "    result = self.generate_prediction_nocache(model)\n",
      "  File \"/home/justas/Repositories/neuronunit_justasb/neuronunit/tests/olfactory_bulb/tests.py\", line 626, in generate_prediction_nocache\n",
      "    aps = self.get_aps(voltage)\n",
      "  File \"/home/justas/Repositories/neuronunit_justasb/neuronunit/tests/olfactory_bulb/__init__.py\", line 115, in get_aps\n",
      "    return get_APs(voltage, self.ss_delay, self.threshold_method)\n",
      "  File \"/home/justas/Repositories/neuronunit_justasb/neuronunit/tests/olfactory_bulb/utilities.py\", line 87, in get_APs\n",
      "    ss_delay_point = int(ss_delay * voltage.sampling_rate)+1\n",
      "AttributeError: 'NoneType' object has no attribute 'sampling_rate'\n",
      "\n",
      "\n",
      "Traceback (most recent call last):\n",
      "  File \"prev_ob_models/Birgiolas2020/fitting.py\", line 195, in get_workitem_score\n",
      "    raise Exception(prediction)\n",
      "Exception: Traceback (most recent call last):\n",
      "  File \"/home/justas/Repositories/neuronunit_justasb/neuronunit/tests/olfactory_bulb/__init__.py\", line 30, in generate_prediction\n",
      "    result = self.generate_prediction_nocache(model)\n",
      "  File \"/home/justas/Repositories/neuronunit_justasb/neuronunit/tests/olfactory_bulb/tests.py\", line 625, in generate_prediction_nocache\n",
      "    _, _, voltage = self.get_dependent_prediction(TargetFreqTestHelper, model)\n",
      "ValueError: too many values to unpack\n",
      "\n",
      "\n",
      "Traceback (most recent call last):\n",
      "  File \"prev_ob_models/Birgiolas2020/fitting.py\", line 195, in get_workitem_score\n",
      "    raise Exception(prediction)\n",
      "Exception: Traceback (most recent call last):\n",
      "  File \"/home/justas/Repositories/neuronunit_justasb/neuronunit/tests/olfactory_bulb/__init__.py\", line 30, in generate_prediction\n",
      "    result = self.generate_prediction_nocache(model)\n",
      "  File \"/home/justas/Repositories/neuronunit_justasb/neuronunit/tests/olfactory_bulb/tests.py\", line 625, in generate_prediction_nocache\n",
      "    _, _, voltage = self.get_dependent_prediction(TargetFreqTestHelper, model)\n",
      "ValueError: too many values to unpack\n",
      "\n",
      "\n",
      "Traceback (most recent call last):\n",
      "  File \"prev_ob_models/Birgiolas2020/fitting.py\", line 195, in get_workitem_score\n",
      "    raise Exception(prediction)\n",
      "Exception: Traceback (most recent call last):\n",
      "  File \"/home/justas/Repositories/neuronunit_justasb/neuronunit/tests/olfactory_bulb/__init__.py\", line 30, in generate_prediction\n",
      "    result = self.generate_prediction_nocache(model)\n",
      "  File \"/home/justas/Repositories/neuronunit_justasb/neuronunit/tests/olfactory_bulb/tests.py\", line 954, in generate_prediction_nocache\n",
      "    freq_targetHz, crossings, voltage = self.get_dependent_prediction(TargetFreqTestHelper, model)\n",
      "ValueError: too many values to unpack\n",
      "\n",
      "\n",
      "Traceback (most recent call last):\n",
      "  File \"prev_ob_models/Birgiolas2020/fitting.py\", line 195, in get_workitem_score\n",
      "    raise Exception(prediction)\n",
      "Exception: Traceback (most recent call last):\n",
      "  File \"/home/justas/Repositories/neuronunit_justasb/neuronunit/tests/olfactory_bulb/__init__.py\", line 30, in generate_prediction\n",
      "    result = self.generate_prediction_nocache(model)\n",
      "  File \"/home/justas/Repositories/neuronunit_justasb/neuronunit/tests/olfactory_bulb/tests.py\", line 954, in generate_prediction_nocache\n",
      "    freq_targetHz, crossings, voltage = self.get_dependent_prediction(TargetFreqTestHelper, model)\n",
      "ValueError: too many values to unpack\n",
      "\n",
      "\n",
      "Traceback (most recent call last):\n",
      "  File \"prev_ob_models/Birgiolas2020/fitting.py\", line 195, in get_workitem_score\n",
      "    raise Exception(prediction)\n",
      "Exception: Traceback (most recent call last):\n",
      "  File \"/home/justas/Repositories/neuronunit_justasb/neuronunit/tests/olfactory_bulb/__init__.py\", line 30, in generate_prediction\n",
      "    result = self.generate_prediction_nocache(model)\n",
      "  File \"/home/justas/Repositories/neuronunit_justasb/neuronunit/tests/olfactory_bulb/tests.py\", line 415, in generate_prediction_nocache\n",
      "    return ap[\"amplitude\"]\n",
      "TypeError: string indices must be integers, not str\n",
      "\n",
      "\n",
      "Traceback (most recent call last):\n",
      "  File \"prev_ob_models/Birgiolas2020/fitting.py\", line 195, in get_workitem_score\n",
      "    raise Exception(prediction)\n",
      "Exception: Traceback (most recent call last):\n",
      "  File \"/home/justas/Repositories/neuronunit_justasb/neuronunit/tests/olfactory_bulb/__init__.py\", line 30, in generate_prediction\n",
      "    result = self.generate_prediction_nocache(model)\n",
      "  File \"/home/justas/Repositories/neuronunit_justasb/neuronunit/tests/olfactory_bulb/tests.py\", line 415, in generate_prediction_nocache\n",
      "    return ap[\"amplitude\"]\n",
      "TypeError: string indices must be integers, not str\n",
      "\n",
      "\n",
      "Traceback (most recent call last):\n",
      "  File \"prev_ob_models/Birgiolas2020/fitting.py\", line 195, in get_workitem_score\n",
      "    raise Exception(prediction)\n",
      "Exception: Traceback (most recent call last):\n",
      "  File \"/home/justas/Repositories/neuronunit_justasb/neuronunit/tests/olfactory_bulb/__init__.py\", line 30, in generate_prediction\n",
      "    result = self.generate_prediction_nocache(model)\n",
      "  File \"/home/justas/Repositories/neuronunit_justasb/neuronunit/tests/olfactory_bulb/tests.py\", line 442, in generate_prediction_nocache\n",
      "    return ap[\"half_width\"]\n",
      "TypeError: string indices must be integers, not str\n",
      "\n"
     ]
    },
    {
     "name": "stdout",
     "output_type": "stream",
     "text": [
      "\n",
      "Traceback (most recent call last):\n",
      "  File \"prev_ob_models/Birgiolas2020/fitting.py\", line 195, in get_workitem_score\n",
      "    raise Exception(prediction)\n",
      "Exception: Traceback (most recent call last):\n",
      "  File \"/home/justas/Repositories/neuronunit_justasb/neuronunit/tests/olfactory_bulb/__init__.py\", line 30, in generate_prediction\n",
      "    result = self.generate_prediction_nocache(model)\n",
      "  File \"/home/justas/Repositories/neuronunit_justasb/neuronunit/tests/olfactory_bulb/tests.py\", line 442, in generate_prediction_nocache\n",
      "    return ap[\"half_width\"]\n",
      "TypeError: string indices must be integers, not str\n",
      "\n",
      "\n",
      "Simulation timed out\n",
      "('DONE with', 1, 'of', 20, 'of GEN', '1', 'with Fitness', '90.00')\n",
      "('DONE with', 2, 'of', 20, 'of GEN', '1', 'with Fitness', '24.90')\n",
      "('DONE with', 3, 'of', 20, 'of GEN', '1', 'with Fitness', '17.28')\n",
      "('DONE with', 4, 'of', 20, 'of GEN', '1', 'with Fitness', '18.91')\n",
      "Simulation timed out\n",
      "('DONE with', 5, 'of', 20, 'of GEN', '1', 'with Fitness', '90.00')\n",
      "('DONE with', 6, 'of', 20, 'of GEN', '1', 'with Fitness', '5.58')\n",
      "('DONE with', 7, 'of', 20, 'of GEN', '1', 'with Fitness', '3.66')\n",
      "('DONE with', 8, 'of', 20, 'of GEN', '1', 'with Fitness', '3.66')\n",
      "('DONE with', 9, 'of', 20, 'of GEN', '1', 'with Fitness', '4.62')\n",
      "('DONE with', 10, 'of', 20, 'of GEN', '1', 'with Fitness', '5.25')\n",
      "('DONE with', 11, 'of', 20, 'of GEN', '1', 'with Fitness', '5.05')\n",
      "('DONE with', 12, 'of', 20, 'of GEN', '1', 'with Fitness', '9431.22')\n",
      "('DONE with', 13, 'of', 20, 'of GEN', '1', 'with Fitness', '3.66')\n",
      "('DONE with', 14, 'of', 20, 'of GEN', '1', 'with Fitness', '4.51')\n",
      "('DONE with', 15, 'of', 20, 'of GEN', '1', 'with Fitness', '3.59')\n",
      "('DONE with', 16, 'of', 20, 'of GEN', '1', 'with Fitness', '3.66')\n",
      "('DONE with', 17, 'of', 20, 'of GEN', '1', 'with Fitness', '3.66')\n",
      "('DONE with', 18, 'of', 20, 'of GEN', '1', 'with Fitness', '4.28')\n",
      "('DONE with', 19, 'of', 20, 'of GEN', '1', 'with Fitness', '3.83')\n",
      "Simulation timed out\n",
      "('DONE with', 20, 'of', 20, 'of GEN', '1', 'with Fitness', '90.00')\n",
      "('Generation', 1, 'out of', 7, 'COMPLETE')\n",
      "('Best fitness:', 3.587765346654687)\n",
      "('Best individual', [1.2471592703753913, 85.91729392565932, 0.9576321104748539, 32.45265517788054, -63.438841110533915, -75.05751351034053, 3.2734130874817184e-05, 2.6098957202295194, 9.666857483589407, 0.06150916169169841, 0.03759175148995797, 0.0004759847063037054, 0.0042226776511213, 0.00776370232830789, 9.599737738463663e-06, -16.369883529143777, 1.9500130790130927e-06, 0.01027446638931233])\n",
      "diam in ['apical', 'basal', 'axonal'] at 23.41% of range. Val: 1.24715927038 Low: 0.1 High: 5.0\n",
      "Ra in ['all'] at 56.99% of range. Val: 85.9172939257 Low: 1.0 High: 150.0\n",
      "cm in ['all'] at 45.14% of range. Val: 0.957632110475 Low: 0.1 High: 2.0\n",
      "ena in ['all'] at 20.75% of range. Val: 32.4526551779 Low: 20.0 High: 80.0\n",
      "ek in ['all'] at 73.12% of range. Val: -63.4388411105 Low: -100.0 High: -50.0\n",
      "e_pas in ['all'] at 37.36% of range. Val: -75.0575135103 Low: -90.0 High: -50.0\n",
      "g_pas in ['all'] at 81.84% of range. Val: 3.27341308748e-05 Low: 0 High: 4e-05\n",
      "sh_Na in ['all'] at 26.10% of range. Val: 2.60989572023 Low: 0 High: 10\n",
      "tau_CaPool in ['all'] at 2.90% of range. Val: 9.66685748359 Low: 1 High: 300\n",
      "gbar_Na in ['all'] at 61.51% of range. Val: 0.0615091616917 Low: 0 High: 0.1\n",
      "gbar_Kd in ['all'] at 37.59% of range. Val: 0.03759175149 Low: 0 High: 0.1\n",
      "gbar_Kslow in ['all'] at 47.60% of range. Val: 0.000475984706304 Low: 0 High: 0.001\n",
      "gbar_KA in ['all'] at 21.11% of range. Val: 0.00422267765112 Low: 0 High: 0.02\n",
      "gbar_KCa in ['all'] at 48.52% of range. Val: 0.00776370232831 Low: 0 High: 0.016\n",
      "gbar_LCa in ['all'] at 1.92% of range. Val: 9.59973773846e-06 Low: 0 High: 0.0005\n",
      "eh in ['apical'] at 78.77% of range. Val: -16.3698835291 Low: -40.0 High: -10.0\n",
      "gbar_Ih in ['apical'] at 65.00% of range. Val: 1.95001307901e-06 Low: 0 High: 3e-06\n",
      "gbar_CaT in ['apical'] at 51.37% of range. Val: 0.0102744663893 Low: 0 High: 0.02\n",
      "('GEN', 2, 'Parents', 4, 'Elite', 10, 'DIV', 5, 'RND', 5, 'TOT NEW', 20)\n",
      "('STARTED GEN', '2', 'size', 20)\n"
     ]
    }
   ],
   "source": [
    "fitter.top = [\n",
    "    [1.257952744424898, 85.91729392565932, 0.9576321104748539, 32.45265517788054, -63.438841110533915, -75.05751351034053, 3.2734130874817184e-05, 6.998337271244549, 9.666857483589407, 0.06150916169169841, 0.048264162822075574, 0.0004759847063037054, 0.0042226776511213, 0.00776370232830789, 9.599737738463663e-06, -22.298521923939564, 1.9500130790130927e-06, 0.01027446638931233],\n",
    "    [1.257952744424898, 85.91729392565932, 0.9576321104748539, 32.45265517788054, -63.438841110533915, -75.05751351034053, 3.2734130874817184e-05, 6.998337271244549, 9.666857483589407, 0.06150916169169841, 0.048264162822075574, 0.0004759847063037054, 0.0042226776511213, 0.00776370232830789, 9.599737738463663e-06, -22.298521923939564, 1.9500130790130927e-06, 0.01027446638931233]\n",
    "]\n",
    "fitter.fit(20, 7)"
   ]
  },
  {
   "cell_type": "code",
   "execution_count": null,
   "metadata": {},
   "outputs": [],
   "source": [
    "fitter.parameter_report(fitter.best)"
   ]
  },
  {
   "cell_type": "code",
   "execution_count": null,
   "metadata": {},
   "outputs": [],
   "source": [
    "df, score = fitter.get_best_score()\n",
    "print(score[\"model_score\"]) \n",
    "df.transpose()"
   ]
  },
  {
   "cell_type": "code",
   "execution_count": null,
   "metadata": {},
   "outputs": [],
   "source": [
    "raise"
   ]
  },
  {
   "cell_type": "code",
   "execution_count": null,
   "metadata": {},
   "outputs": [],
   "source": [
    "#fitter.clear_cache()\n",
    "#fitter.best = []\n",
    "df, score = fitter.get_best_score()\n",
    "print(score[\"model_score\"]) \n",
    "df.transpose()"
   ]
  },
  {
   "cell_type": "code",
   "execution_count": null,
   "metadata": {
    "scrolled": false
   },
   "outputs": [],
   "source": [
    "raise"
   ]
  },
  {
   "cell_type": "code",
   "execution_count": null,
   "metadata": {},
   "outputs": [],
   "source": [
    "from scipy.optimize import minimize\n",
    "def evaluate(ind):\n",
    "    print(ind)\n",
    "    return ind[0]**2+ind[1]**2+1\n",
    "\n",
    "min_res = minimize(evaluate, [1.0,2.3], method='Nelder-Mead', options={\"disp\":False, \"maxfev\":50, \"maxiter\":500,\"xatol\":0.1,\"fatol\":0.1})\n",
    "min_res"
   ]
  },
  {
   "cell_type": "code",
   "execution_count": null,
   "metadata": {},
   "outputs": [],
   "source": [
    "score"
   ]
  },
  {
   "cell_type": "code",
   "execution_count": null,
   "metadata": {},
   "outputs": [],
   "source": [
    "fitter.clear_cache()\n",
    "df = fitter.get_previous_model_scores()\n",
    "df"
   ]
  },
  {
   "cell_type": "code",
   "execution_count": null,
   "metadata": {},
   "outputs": [],
   "source": [
    "df.to_csv(\"ephyz/\"+fitter.cell_type+\"_model_zscores.csv\")"
   ]
  },
  {
   "cell_type": "code",
   "execution_count": null,
   "metadata": {},
   "outputs": [],
   "source": [
    "raise"
   ]
  },
  {
   "cell_type": "code",
   "execution_count": null,
   "metadata": {},
   "outputs": [],
   "source": [
    "np.linspace(0,100,0.1)"
   ]
  },
  {
   "cell_type": "code",
   "execution_count": null,
   "metadata": {},
   "outputs": [],
   "source": [
    "score[\"model_score\"]"
   ]
  },
  {
   "cell_type": "code",
   "execution_count": null,
   "metadata": {},
   "outputs": [],
   "source": [
    "raise"
   ]
  },
  {
   "cell_type": "code",
   "execution_count": null,
   "metadata": {},
   "outputs": [],
   "source": [
    "fitter.top = None"
   ]
  },
  {
   "cell_type": "code",
   "execution_count": null,
   "metadata": {},
   "outputs": [],
   "source": [
    "cpus = multiprocessing.cpu_count()\n",
    "fitter.fit(int(cpus*1.5), 48)"
   ]
  },
  {
   "cell_type": "code",
   "execution_count": null,
   "metadata": {},
   "outputs": [],
   "source": [
    "fitter.clear_cache()\n",
    "fitter.best = []\n",
    "df, score = fitter.get_best_score()\n",
    "df"
   ]
  },
  {
   "cell_type": "code",
   "execution_count": null,
   "metadata": {},
   "outputs": [],
   "source": [
    "score[\"model_score\"]"
   ]
  },
  {
   "cell_type": "code",
   "execution_count": null,
   "metadata": {},
   "outputs": [],
   "source": [
    "fitter.pretty_pop()"
   ]
  },
  {
   "cell_type": "code",
   "execution_count": null,
   "metadata": {},
   "outputs": [],
   "source": [
    "from prev_ob_models.Birgiolas2020.isolated_cells import MC1\n",
    "mc = MC1()"
   ]
  },
  {
   "cell_type": "code",
   "execution_count": null,
   "metadata": {},
   "outputs": [],
   "source": [
    "fitter.print_params(fitter.best, mc.cell)"
   ]
  },
  {
   "cell_type": "code",
   "execution_count": null,
   "metadata": {},
   "outputs": [],
   "source": []
  },
  {
   "cell_type": "code",
   "execution_count": null,
   "metadata": {},
   "outputs": [],
   "source": []
  }
 ],
 "metadata": {
  "kernelspec": {
   "display_name": "Python 2",
   "language": "python",
   "name": "python2"
  },
  "language_info": {
   "codemirror_mode": {
    "name": "ipython",
    "version": 2
   },
   "file_extension": ".py",
   "mimetype": "text/x-python",
   "name": "python",
   "nbconvert_exporter": "python",
   "pygments_lexer": "ipython2",
   "version": "2.7.14"
  },
  "varInspector": {
   "cols": {
    "lenName": 16,
    "lenType": 16,
    "lenVar": 40
   },
   "kernels_config": {
    "python": {
     "delete_cmd_postfix": "",
     "delete_cmd_prefix": "del ",
     "library": "var_list.py",
     "varRefreshCmd": "print(var_dic_list())"
    },
    "r": {
     "delete_cmd_postfix": ") ",
     "delete_cmd_prefix": "rm(",
     "library": "var_list.r",
     "varRefreshCmd": "cat(var_dic_list()) "
    }
   },
   "position": {
    "height": "437.85px",
    "left": "557px",
    "right": "20px",
    "top": "120px",
    "width": "350px"
   },
   "types_to_exclude": [
    "module",
    "function",
    "builtin_function_or_method",
    "instance",
    "_Feature"
   ],
   "window_display": false
  }
 },
 "nbformat": 4,
 "nbformat_minor": 2
}
