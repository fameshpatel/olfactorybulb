{
 "cells": [
  {
   "cell_type": "code",
   "execution_count": 1,
   "metadata": {},
   "outputs": [],
   "source": [
    "import os; os.chdir('..')\n",
    "import numpy as np\n",
    "from __future__ import print_function\n",
    "from ipywidgets import interact, interactive, fixed, interact_manual\n",
    "import ipywidgets as widgets\n",
    "from ipywidgets import FloatSlider"
   ]
  },
  {
   "cell_type": "code",
   "execution_count": 2,
   "metadata": {},
   "outputs": [],
   "source": [
    "from prev_ob_models.Birgiolas2020.isolated_cells import TC2 as MC"
   ]
  },
  {
   "cell_type": "code",
   "execution_count": 3,
   "metadata": {},
   "outputs": [],
   "source": [
    "mc = MC()"
   ]
  },
  {
   "cell_type": "code",
   "execution_count": 4,
   "metadata": {},
   "outputs": [],
   "source": [
    "from neuron import h\n",
    "\n",
    "vec = h.Vector()\n",
    "vec.record(mc.cell.soma(0.5)._ref_v, 0.5)\n",
    "\n",
    "\n",
    "h.tstop = 10000\n",
    "\n",
    "#h.newPlotV()"
   ]
  },
  {
   "cell_type": "code",
   "execution_count": 5,
   "metadata": {},
   "outputs": [],
   "source": [
    "ic = h.IClamp(mc.cell.soma(0.5))\n",
    "ic2 = h.IClamp(mc.cell.soma(0.5))\n",
    "ic3 = h.IClamp(mc.cell.soma(0.5))"
   ]
  },
  {
   "cell_type": "code",
   "execution_count": 6,
   "metadata": {},
   "outputs": [],
   "source": [
    "ic.delay = 1000\n",
    "ic.dur = 1000\n",
    "ic.amp = -0.111\n",
    "\n",
    "\n",
    "ic2.delay = 4000\n",
    "ic2.dur = 1\n",
    "ic2.amp = 1\n",
    "\n",
    "\n",
    "ic3.delay = 7000\n",
    "ic3.dur = 2000\n",
    "ic3.amp = 0.111"
   ]
  },
  {
   "cell_type": "code",
   "execution_count": 7,
   "metadata": {},
   "outputs": [],
   "source": [
    "from neuron import gui"
   ]
  },
  {
   "cell_type": "code",
   "execution_count": 8,
   "metadata": {},
   "outputs": [
    {
     "ename": "TypeError",
     "evalue": "exceptions must be old-style classes or derived from BaseException, not NoneType",
     "output_type": "error",
     "traceback": [
      "\u001b[0;31m---------------------------------------------------------------------------\u001b[0m",
      "\u001b[0;31mTypeError\u001b[0m                                 Traceback (most recent call last)",
      "\u001b[0;32m<ipython-input-8-690bf60e9d76>\u001b[0m in \u001b[0;36m<module>\u001b[0;34m()\u001b[0m\n\u001b[1;32m      1\u001b[0m \u001b[0mh\u001b[0m\u001b[0;34m.\u001b[0m\u001b[0mnewPlotV\u001b[0m\u001b[0;34m(\u001b[0m\u001b[0;34m)\u001b[0m\u001b[0;34m\u001b[0m\u001b[0m\n\u001b[1;32m      2\u001b[0m \u001b[0mh\u001b[0m\u001b[0;34m.\u001b[0m\u001b[0mrun\u001b[0m\u001b[0;34m(\u001b[0m\u001b[0;34m)\u001b[0m\u001b[0;34m\u001b[0m\u001b[0m\n\u001b[0;32m----> 3\u001b[0;31m \u001b[0;32mraise\u001b[0m\u001b[0;34m\u001b[0m\u001b[0m\n\u001b[0m",
      "\u001b[0;31mTypeError\u001b[0m: exceptions must be old-style classes or derived from BaseException, not NoneType"
     ]
    },
    {
     "name": "stdout",
     "output_type": "stream",
     "text": [
      "\t-68.307689 \n"
     ]
    }
   ],
   "source": [
    "h.newPlotV()\n",
    "h.run()\n",
    "raise"
   ]
  },
  {
   "cell_type": "code",
   "execution_count": null,
   "metadata": {},
   "outputs": [],
   "source": [
    "params = mc.params"
   ]
  },
  {
   "cell_type": "code",
   "execution_count": null,
   "metadata": {},
   "outputs": [],
   "source": [
    "best = mc.param_values\n",
    "\n",
    "for i, p in enumerate(params):\n",
    "    params[i][\"start\"] = best[i]"
   ]
  },
  {
   "cell_type": "code",
   "execution_count": null,
   "metadata": {},
   "outputs": [],
   "source": [
    "kwargs = {}\n",
    "for pi, pv in enumerate(params):\n",
    "    #print(pv[\"attr\"])\n",
    "    kwargs[pv[\"attr\"]+\"|\"+str(pv[\"lists\"])] = FloatSlider(\n",
    "        value=pv[\"start\"],\n",
    "        min=pv[\"low\"],\n",
    "        max=pv[\"high\"],\n",
    "        step=(pv[\"high\"]-pv[\"low\"])/100.0,\n",
    "        continuous_update=False,\n",
    "        readout_format='.9f',\n",
    "        description=(pv[\"attr\"]+\"|\"+str(pv[\"lists\"][0])).replace(\"gbar_\",\"g\")\n",
    "    )\n",
    "#kwargs"
   ]
  },
  {
   "cell_type": "code",
   "execution_count": null,
   "metadata": {},
   "outputs": [],
   "source": [
    "def evaluate(**kwargs):   \n",
    "    param_keys = kwargs.keys()\n",
    "    \n",
    "    for key in param_keys:\n",
    "        attr = key.split(\"|\")[0]\n",
    "        lists = eval(key.split(\"|\")[1])\n",
    "        \n",
    "        for param_list in lists:\n",
    "            for sec in getattr(mc.cell, param_list):\n",
    "                if attr == \"tau_CaPool\":\n",
    "                    setattr(h, attr, kwargs[key])\n",
    "                elif attr == \"diam\":\n",
    "                    setattr(sec, attr, kwargs[key]*getattr(sec, attr))\n",
    "                else:\n",
    "                    setattr(sec, attr, kwargs[key])\n",
    "        \n",
    "    h.run()\n",
    "    \n",
    "    from matplotlib import pyplot as plt\n",
    "    plt.plot(vec.as_numpy())\n",
    "    plt.show()\n",
    "    \n",
    "    return mc.cell.soma(0.5).v"
   ]
  },
  {
   "cell_type": "code",
   "execution_count": null,
   "metadata": {},
   "outputs": [],
   "source": []
  },
  {
   "cell_type": "code",
   "execution_count": null,
   "metadata": {},
   "outputs": [],
   "source": [
    "interact(evaluate, **kwargs);"
   ]
  },
  {
   "cell_type": "code",
   "execution_count": null,
   "metadata": {},
   "outputs": [],
   "source": []
  }
 ],
 "metadata": {
  "kernelspec": {
   "display_name": "Python 2",
   "language": "python",
   "name": "python2"
  },
  "language_info": {
   "codemirror_mode": {
    "name": "ipython",
    "version": 2
   },
   "file_extension": ".py",
   "mimetype": "text/x-python",
   "name": "python",
   "nbconvert_exporter": "python",
   "pygments_lexer": "ipython2",
   "version": "2.7.14"
  },
  "varInspector": {
   "cols": {
    "lenName": 16,
    "lenType": 16,
    "lenVar": 40
   },
   "kernels_config": {
    "python": {
     "delete_cmd_postfix": "",
     "delete_cmd_prefix": "del ",
     "library": "var_list.py",
     "varRefreshCmd": "print(var_dic_list())"
    },
    "r": {
     "delete_cmd_postfix": ") ",
     "delete_cmd_prefix": "rm(",
     "library": "var_list.r",
     "varRefreshCmd": "cat(var_dic_list()) "
    }
   },
   "types_to_exclude": [
    "module",
    "function",
    "builtin_function_or_method",
    "instance",
    "_Feature"
   ],
   "window_display": false
  }
 },
 "nbformat": 4,
 "nbformat_minor": 2
}
