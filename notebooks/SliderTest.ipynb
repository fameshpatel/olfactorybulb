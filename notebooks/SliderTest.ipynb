{
 "cells": [
  {
   "cell_type": "code",
   "execution_count": 1,
   "metadata": {},
   "outputs": [],
   "source": [
    "import os; os.chdir('..')\n",
    "import numpy as np\n",
    "from __future__ import print_function\n",
    "from ipywidgets import interact, interactive, fixed, interact_manual\n",
    "import ipywidgets as widgets\n",
    "from ipywidgets import FloatSlider"
   ]
  },
  {
   "cell_type": "code",
   "execution_count": 2,
   "metadata": {},
   "outputs": [],
   "source": [
    "from prev_ob_models.Birgiolas2020.isolated_cells import MC1 as MC"
   ]
  },
  {
   "cell_type": "code",
   "execution_count": 3,
   "metadata": {},
   "outputs": [],
   "source": [
    "mc = MC()"
   ]
  },
  {
   "cell_type": "code",
   "execution_count": 4,
   "metadata": {},
   "outputs": [],
   "source": [
    "from neuron import h\n",
    "\n",
    "vec = h.Vector()\n",
    "vec.record(mc.cell.soma(0.5)._ref_v, 0.5)\n",
    "\n",
    "\n",
    "h.tstop = 10000\n",
    "\n",
    "#h.newPlotV()"
   ]
  },
  {
   "cell_type": "code",
   "execution_count": 5,
   "metadata": {},
   "outputs": [],
   "source": [
    "ic = h.IClamp(mc.cell.soma(0.5))\n",
    "ic2 = h.IClamp(mc.cell.soma(0.5))\n",
    "ic3 = h.IClamp(mc.cell.soma(0.5))"
   ]
  },
  {
   "cell_type": "code",
   "execution_count": 9,
   "metadata": {},
   "outputs": [],
   "source": [
    "ic.delay = 1000\n",
    "ic.dur = 3000\n",
    "ic.amp = -0.111\n",
    "\n",
    "\n",
    "ic2.delay = 4000\n",
    "ic2.dur = 2000\n",
    "ic2.amp = 0.151\n",
    "\n",
    "\n",
    "ic3.delay = 7000\n",
    "ic3.dur = 2000\n",
    "ic3.amp = 0.111*2"
   ]
  },
  {
   "cell_type": "code",
   "execution_count": 7,
   "metadata": {},
   "outputs": [],
   "source": [
    "from neuron import gui"
   ]
  },
  {
   "cell_type": "code",
   "execution_count": 8,
   "metadata": {},
   "outputs": [
    {
     "ename": "TypeError",
     "evalue": "exceptions must be old-style classes or derived from BaseException, not NoneType",
     "output_type": "error",
     "traceback": [
      "\u001b[0;31m---------------------------------------------------------------------------\u001b[0m",
      "\u001b[0;31mTypeError\u001b[0m                                 Traceback (most recent call last)",
      "\u001b[0;32m<ipython-input-8-690bf60e9d76>\u001b[0m in \u001b[0;36m<module>\u001b[0;34m()\u001b[0m\n\u001b[1;32m      1\u001b[0m \u001b[0mh\u001b[0m\u001b[0;34m.\u001b[0m\u001b[0mnewPlotV\u001b[0m\u001b[0;34m(\u001b[0m\u001b[0;34m)\u001b[0m\u001b[0;34m\u001b[0m\u001b[0m\n\u001b[1;32m      2\u001b[0m \u001b[0mh\u001b[0m\u001b[0;34m.\u001b[0m\u001b[0mrun\u001b[0m\u001b[0;34m(\u001b[0m\u001b[0;34m)\u001b[0m\u001b[0;34m\u001b[0m\u001b[0m\n\u001b[0;32m----> 3\u001b[0;31m \u001b[0;32mraise\u001b[0m\u001b[0;34m\u001b[0m\u001b[0m\n\u001b[0m",
      "\u001b[0;31mTypeError\u001b[0m: exceptions must be old-style classes or derived from BaseException, not NoneType"
     ]
    }
   ],
   "source": [
    "h.newPlotV()\n",
    "h.run()\n",
    "raise"
   ]
  },
  {
   "cell_type": "code",
   "execution_count": null,
   "metadata": {},
   "outputs": [],
   "source": [
    "params = [    \n",
    "    { \"start\": 1,  \"attr\": \"diam\",        \"low\": 0.1, \"high\": 10.0, \"lists\": [\"apical\",\"basal\",\"axonal\"] },\n",
    "    { \"start\": 34.77,  \"attr\": \"Ra\",        \"low\": 5.0, \"high\": 100.0, \"lists\": [\"all\"] },\n",
    "    { \"start\": 2.706,   \"attr\": \"cm\",        \"low\": 0.1, \"high\": 4.0, \"lists\": [\"all\"] },\n",
    "    { \"start\": 49.95,  \"attr\": \"ena\",       \"low\": 40.0, \"high\": 50.0, \"lists\": [\"all\"] },\n",
    "    { \"start\": -70.03,  \"attr\": \"ek\",        \"low\": -100.0, \"high\": -70.0, \"lists\": [\"all\"] },\n",
    "    { \"start\": -64.42,  \"attr\": \"e_pas\",     \"low\": -70.0, \"high\": -50.0, \"lists\": [\"all\"] },\n",
    "    { \"start\": 0.0005955, \"attr\": \"g_pas\",     \"low\": 0, \"high\": 0.00004, \"lists\": [\"all\"] },    \n",
    "    { \"start\": 0.5955,  \"attr\": \"sh_Na\",     \"low\": 0, \"high\": 10, \"lists\": [\"all\"] },    \n",
    "    { \"start\": 10,  \"attr\": \"tau_CaPool\",     \"low\": 1, \"high\": 20, \"lists\": [\"all\"] },    \n",
    "\n",
    "    { \"start\":  0.87485,  \"attr\": \"gbar_Na\",     \"low\": 0, \"high\": 0.05, \"lists\": [\"all\"] },\n",
    "    { \"start\": 0.0297,  \"attr\": \"gbar_Kd\",     \"low\": 0, \"high\": 0.05, \"lists\": [\"all\"] },\n",
    "    { \"start\": 0.000264,  \"attr\": \"gbar_Kslow\",  \"low\": 0, \"high\": 0.008, \"lists\": [\"all\"] },\n",
    "    { \"start\": 0.07215,  \"attr\": \"gbar_KA\",     \"low\": 0, \"high\": 0.005, \"lists\": [\"all\"] },\n",
    "    { \"start\": 0.001,  \"attr\": \"gbar_KCa\",    \"low\": 0, \"high\": 0.004, \"lists\": [\"all\"] },\n",
    "    { \"start\": 0.00081441,  \"attr\": \"gbar_LCa\",  \"low\": 0, \"high\": 0.001, \"lists\": [\"all\"] },\n",
    "    \n",
    "    { \"start\": -30.805,  \"attr\": \"eh\",       \"low\": -40.0, \"high\": -25.0, \"lists\": [\"apical\"] },\n",
    "    { \"start\": 0.00335,  \"attr\": \"gbar_Ih\",    \"low\": 0, \"high\": 0.000003, \"lists\": [\"apical\"] },\n",
    "    { \"start\": 0.000107,  \"attr\": \"gbar_CaT\",    \"low\": 0, \"high\": 18e-3, \"lists\": [\"apical\"] },\n",
    "]"
   ]
  },
  {
   "cell_type": "code",
   "execution_count": null,
   "metadata": {},
   "outputs": [],
   "source": [
    "best = mc.param_values\n",
    "\n",
    "for i, p in enumerate(params):\n",
    "    params[i][\"start\"] = best[i]"
   ]
  },
  {
   "cell_type": "code",
   "execution_count": null,
   "metadata": {},
   "outputs": [],
   "source": [
    "kwargs = {}\n",
    "for pi, pv in enumerate(params):\n",
    "    #print(pv[\"attr\"])\n",
    "    kwargs[pv[\"attr\"]+\"|\"+str(pv[\"lists\"])] = FloatSlider(\n",
    "        value=pv[\"start\"],\n",
    "        min=pv[\"low\"],\n",
    "        max=pv[\"high\"],\n",
    "        step=(pv[\"high\"]-pv[\"low\"])/100.0,\n",
    "        continuous_update=False,\n",
    "        readout_format='.9f',\n",
    "        description=(pv[\"attr\"]+\"|\"+str(pv[\"lists\"][0])).replace(\"gbar_\",\"g\")\n",
    "    )\n",
    "#kwargs"
   ]
  },
  {
   "cell_type": "code",
   "execution_count": null,
   "metadata": {},
   "outputs": [],
   "source": [
    "def evaluate(**kwargs):   \n",
    "    param_keys = kwargs.keys()\n",
    "    \n",
    "    for key in param_keys:\n",
    "        attr = key.split(\"|\")[0]\n",
    "        lists = eval(key.split(\"|\")[1])\n",
    "        \n",
    "        for param_list in lists:\n",
    "            for sec in getattr(mc.cell, param_list):\n",
    "                if attr == \"tau_CaPool\":\n",
    "                    setattr(h, attr, kwargs[key])\n",
    "                elif attr == \"diam\":\n",
    "                    setattr(sec, attr, kwargs[key]*getattr(sec, attr))\n",
    "                else:\n",
    "                    setattr(sec, attr, kwargs[key])\n",
    "        \n",
    "    h.run()\n",
    "    \n",
    "    from matplotlib import pyplot as plt\n",
    "    plt.plot(vec.as_numpy())\n",
    "    plt.show()\n",
    "    \n",
    "    return mc.cell.soma(0.5).v"
   ]
  },
  {
   "cell_type": "code",
   "execution_count": null,
   "metadata": {},
   "outputs": [],
   "source": []
  },
  {
   "cell_type": "code",
   "execution_count": null,
   "metadata": {},
   "outputs": [],
   "source": [
    "interact(evaluate, **kwargs);"
   ]
  },
  {
   "cell_type": "code",
   "execution_count": null,
   "metadata": {},
   "outputs": [],
   "source": []
  }
 ],
 "metadata": {
  "kernelspec": {
   "display_name": "Python 2",
   "language": "python",
   "name": "python2"
  },
  "language_info": {
   "codemirror_mode": {
    "name": "ipython",
    "version": 2
   },
   "file_extension": ".py",
   "mimetype": "text/x-python",
   "name": "python",
   "nbconvert_exporter": "python",
   "pygments_lexer": "ipython2",
   "version": "2.7.14"
  },
  "varInspector": {
   "cols": {
    "lenName": 16,
    "lenType": 16,
    "lenVar": 40
   },
   "kernels_config": {
    "python": {
     "delete_cmd_postfix": "",
     "delete_cmd_prefix": "del ",
     "library": "var_list.py",
     "varRefreshCmd": "print(var_dic_list())"
    },
    "r": {
     "delete_cmd_postfix": ") ",
     "delete_cmd_prefix": "rm(",
     "library": "var_list.r",
     "varRefreshCmd": "cat(var_dic_list()) "
    }
   },
   "types_to_exclude": [
    "module",
    "function",
    "builtin_function_or_method",
    "instance",
    "_Feature"
   ],
   "window_display": false
  }
 },
 "nbformat": 4,
 "nbformat_minor": 2
}
