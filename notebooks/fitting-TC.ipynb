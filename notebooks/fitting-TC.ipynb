{
 "cells": [
  {
   "cell_type": "code",
   "execution_count": 1,
   "metadata": {
    "scrolled": false
   },
   "outputs": [
    {
     "name": "stderr",
     "output_type": "stream",
     "text": [
      "/home/justas/anaconda2/envs/p27/lib/python2.7/site-packages/h5py/__init__.py:36: FutureWarning: Conversion of the second argument of issubdtype from `float` to `np.floating` is deprecated. In future, it will be treated as `np.float64 == np.dtype(float).type`.\n",
      "  from ._conv import register_converters as _register_converters\n"
     ]
    },
    {
     "name": "stdout",
     "output_type": "stream",
     "text": [
      "Could not load NEURONBackend\n"
     ]
    }
   ],
   "source": [
    "import os; os.chdir('..')\n",
    "import multiprocessing\n",
    "from prev_ob_models.Birgiolas2020.fitting import *"
   ]
  },
  {
   "cell_type": "code",
   "execution_count": 2,
   "metadata": {},
   "outputs": [
    {
     "name": "stdout",
     "output_type": "stream",
     "text": [
      "1\n"
     ]
    }
   ],
   "source": [
    "import sys\n",
    "cell_id = sys.argv[1] if len(sys.argv) > 1 and sys.argv[1].isdigit() else 1\n",
    "print(cell_id)"
   ]
  },
  {
   "cell_type": "code",
   "execution_count": 3,
   "metadata": {},
   "outputs": [
    {
     "name": "stdout",
     "output_type": "stream",
     "text": [
      "('Starting tc FITTER for model:', 'prev_ob_models.Birgiolas2020.isolated_cells.TC1')\n"
     ]
    }
   ],
   "source": [
    "fitter = CellFitter(cell_type=\"tc\", fitting_model_class=\"prev_ob_models.Birgiolas2020.isolated_cells.TC\"+str(cell_id))"
   ]
  },
  {
   "cell_type": "code",
   "execution_count": null,
   "metadata": {},
   "outputs": [
    {
     "name": "stdout",
     "output_type": "stream",
     "text": [
      "('STARTED GEN', 'ZERO', 'size', 4)\n",
      "('DONE with', 1, 'of', 4, 'of GEN', 'ZERO', 'with Fitness', '7.29')\n",
      "('DONE with', 2, 'of', 4, 'of GEN', 'ZERO', 'with Fitness', '7.32')\n",
      "('DONE with', 3, 'of', 4, 'of GEN', 'ZERO', 'with Fitness', '7.32')\n",
      "('DONE with', 4, 'of', 4, 'of GEN', 'ZERO', 'with Fitness', '7.32')\n",
      "('GEN', 1, 'Parents', 4, 'Elite', 12, 'DIV', 6, 'RND', 6, 'TOT NEW', 24)\n",
      "('STARTED GEN', '1', 'size', 24)\n",
      "('DONE with', 1, 'of', 24, 'of GEN', '1', 'with Fitness', '23.05')\n",
      "('DONE with', 2, 'of', 24, 'of GEN', '1', 'with Fitness', '18.41')\n",
      "('DONE with', 3, 'of', 24, 'of GEN', '1', 'with Fitness', '14.27')\n",
      "('DONE with', 4, 'of', 24, 'of GEN', '1', 'with Fitness', '18.52')\n",
      "('DONE with', 5, 'of', 24, 'of GEN', '1', 'with Fitness', '12.61')\n",
      "('DONE with', 6, 'of', 24, 'of GEN', '1', 'with Fitness', '202.75')\n",
      "('DONE with', 7, 'of', 24, 'of GEN', '1', 'with Fitness', '19.72')\n",
      "('DONE with', 8, 'of', 24, 'of GEN', '1', 'with Fitness', '8.24')\n",
      "('DONE with', 9, 'of', 24, 'of GEN', '1', 'with Fitness', '502.57')\n",
      "('DONE with', 10, 'of', 24, 'of GEN', '1', 'with Fitness', '9.15')\n",
      "('DONE with', 11, 'of', 24, 'of GEN', '1', 'with Fitness', '10.85')\n",
      "('DONE with', 12, 'of', 24, 'of GEN', '1', 'with Fitness', '9.26')\n",
      "('DONE with', 13, 'of', 24, 'of GEN', '1', 'with Fitness', '7.32')\n",
      "('DONE with', 14, 'of', 24, 'of GEN', '1', 'with Fitness', '9.44')\n",
      "('DONE with', 15, 'of', 24, 'of GEN', '1', 'with Fitness', '8.04')\n",
      "('DONE with', 16, 'of', 24, 'of GEN', '1', 'with Fitness', '7.32')\n",
      "('DONE with', 17, 'of', 24, 'of GEN', '1', 'with Fitness', '7.29')\n",
      "('DONE with', 18, 'of', 24, 'of GEN', '1', 'with Fitness', '7.29')\n",
      "('DONE with', 19, 'of', 24, 'of GEN', '1', 'with Fitness', '7.32')\n",
      "('DONE with', 20, 'of', 24, 'of GEN', '1', 'with Fitness', '18.30')\n",
      "('DONE with', 21, 'of', 24, 'of GEN', '1', 'with Fitness', '10.38')\n",
      "('DONE with', 22, 'of', 24, 'of GEN', '1', 'with Fitness', '13.46')\n",
      "('DONE with', 23, 'of', 24, 'of GEN', '1', 'with Fitness', '18.30')\n",
      "('DONE with', 24, 'of', 24, 'of GEN', '1', 'with Fitness', '2403.89')\n",
      "('Generation', 1, 'out of', 15, 'COMPLETE')\n",
      "('Best fitness:', 7.286888794866516)\n",
      "('Best individual', [3.326978890309271, 90.1583168072787, 0.15915843674357413, 74.90305373525871, -63.574988845020776, -75.30219772953741, 3.7716822052312577e-05, 2.3114356114362957, 108.25256022790602, 0.04745098057442651, 0.0619851232967819, 0.000299392482571642, 0.010733119669723488, 0.004708339796842852, 0.0002963432434991366, -12.21329918504454, 8.897768744135665e-07, 0.0192452371254332])\n",
      "diam in ['apical', 'basal', 'axonal'] at 65.86% of range. Val: 3.32697889031 Low: 0.1 High: 5.0\n",
      "Ra in ['all'] at 59.84% of range. Val: 90.1583168073 Low: 1.0 High: 150.0\n",
      "cm in ['all'] at 3.11% of range. Val: 0.159158436744 Low: 0.1 High: 2.0\n",
      "ena in ['all'] at 91.51% of range. Val: 74.9030537353 Low: 20.0 High: 80.0\n",
      "ek in ['all'] at 72.85% of range. Val: -63.574988845 Low: -100.0 High: -50.0\n",
      "e_pas in ['all'] at 36.74% of range. Val: -75.3021977295 Low: -90.0 High: -50.0\n",
      "g_pas in ['all'] at 94.29% of range. Val: 3.77168220523e-05 Low: 0 High: 4e-05\n",
      "sh_Na in ['all'] at 23.11% of range. Val: 2.31143561144 Low: 0 High: 10\n",
      "tau_CaPool in ['all'] at 35.87% of range. Val: 108.252560228 Low: 1 High: 300\n",
      "gbar_Na in ['all'] at 47.45% of range. Val: 0.0474509805744 Low: 0 High: 0.1\n",
      "gbar_Kd in ['all'] at 61.99% of range. Val: 0.0619851232968 Low: 0 High: 0.1\n",
      "gbar_Kslow in ['all'] at 29.94% of range. Val: 0.000299392482572 Low: 0 High: 0.001\n",
      "gbar_KA in ['all'] at 53.67% of range. Val: 0.0107331196697 Low: 0 High: 0.02\n",
      "gbar_KCa in ['all'] at 29.43% of range. Val: 0.00470833979684 Low: 0 High: 0.016\n",
      "gbar_LCa in ['all'] at 59.27% of range. Val: 0.000296343243499 Low: 0 High: 0.0005\n",
      "eh in ['apical'] at 92.62% of range. Val: -12.213299185 Low: -40.0 High: -10.0\n",
      "gbar_Ih in ['apical'] at 29.66% of range. Val: 8.89776874414e-07 Low: 0 High: 3e-06\n",
      "gbar_CaT in ['apical'] at 96.23% of range. Val: 0.0192452371254 Low: 0 High: 0.02\n",
      "('GEN', 2, 'Parents', 4, 'Elite', 12, 'DIV', 6, 'RND', 6, 'TOT NEW', 24)\n",
      "('STARTED GEN', '2', 'size', 24)\n",
      "('DONE with', 1, 'of', 24, 'of GEN', '2', 'with Fitness', '10.76')\n",
      "('DONE with', 2, 'of', 24, 'of GEN', '2', 'with Fitness', '22.60')\n",
      "('DONE with', 1, 'of', 24, 'of GEN', '2', 'with Fitness', '10.76')\n",
      "('DONE with', 3, 'of', 24, 'of GEN', '2', 'with Fitness', '10.64')\n",
      "('DONE with', 4, 'of', 24, 'of GEN', '2', 'with Fitness', '14.09')\n",
      "('DONE with', 5, 'of', 24, 'of GEN', '2', 'with Fitness', '18.83')\n",
      "('DONE with', 6, 'of', 24, 'of GEN', '2', 'with Fitness', '12.17')\n",
      "('DONE with', 7, 'of', 24, 'of GEN', '2', 'with Fitness', '18.12')\n",
      "('DONE with', 8, 'of', 24, 'of GEN', '2', 'with Fitness', '10.50')\n",
      "('DONE with', 9, 'of', 24, 'of GEN', '2', 'with Fitness', '20.90')\n",
      "('DONE with', 10, 'of', 24, 'of GEN', '2', 'with Fitness', '18.25')\n",
      "('DONE with', 11, 'of', 24, 'of GEN', '2', 'with Fitness', '18.62')\n",
      "('DONE with', 12, 'of', 24, 'of GEN', '2', 'with Fitness', '9.39')\n",
      "('DONE with', 13, 'of', 24, 'of GEN', '2', 'with Fitness', '10.77')\n",
      "('DONE with', 14, 'of', 24, 'of GEN', '2', 'with Fitness', '7.00')\n",
      "('DONE with', 15, 'of', 24, 'of GEN', '2', 'with Fitness', '6.23')\n",
      "('DONE with', 16, 'of', 24, 'of GEN', '2', 'with Fitness', '26.98')\n",
      "('DONE with', 17, 'of', 24, 'of GEN', '2', 'with Fitness', '7.95')\n",
      "('DONE with', 18, 'of', 24, 'of GEN', '2', 'with Fitness', '6.20')\n",
      "('DONE with', 19, 'of', 24, 'of GEN', '2', 'with Fitness', '7.78')\n",
      "('DONE with', 20, 'of', 24, 'of GEN', '2', 'with Fitness', '18.41')\n",
      "('DONE with', 21, 'of', 24, 'of GEN', '2', 'with Fitness', '8.39')\n",
      "('DONE with', 22, 'of', 24, 'of GEN', '2', 'with Fitness', '10.48')\n",
      "('DONE with', 23, 'of', 24, 'of GEN', '2', 'with Fitness', '13.43')\n",
      "('DONE with', 24, 'of', 24, 'of GEN', '2', 'with Fitness', '7.80')\n",
      "('Generation', 2, 'out of', 15, 'COMPLETE')\n",
      "('Best fitness:', 6.20379613501815)\n",
      "('Best individual', [3.663740449461566, 143.48214080212318, 0.17598590600678304, 60.19840183854917, -61.625121668083594, -79.94133503809648, 3.059261863649399e-05, 0.9347530421822733, 200.14198411627214, 0.015789086370124408, 0.06590398271615311, 0.0008304077965203625, 0.010308212252785002, 0.015754778819958053, 0.00018625218602201168, -16.18152956463192, 1.0867784517105008e-06, 0.0021436419058110047])\n",
      "diam in ['apical', 'basal', 'axonal'] at 72.73% of range. Val: 3.66374044946 Low: 0.1 High: 5.0\n",
      "Ra in ['all'] at 95.63% of range. Val: 143.482140802 Low: 1.0 High: 150.0\n",
      "cm in ['all'] at 4.00% of range. Val: 0.175985906007 Low: 0.1 High: 2.0\n",
      "ena in ['all'] at 67.00% of range. Val: 60.1984018385 Low: 20.0 High: 80.0\n",
      "ek in ['all'] at 76.75% of range. Val: -61.6251216681 Low: -100.0 High: -50.0\n",
      "e_pas in ['all'] at 25.15% of range. Val: -79.9413350381 Low: -90.0 High: -50.0\n",
      "g_pas in ['all'] at 76.48% of range. Val: 3.05926186365e-05 Low: 0 High: 4e-05\n",
      "sh_Na in ['all'] at 9.35% of range. Val: 0.934753042182 Low: 0 High: 10\n",
      "tau_CaPool in ['all'] at 66.60% of range. Val: 200.141984116 Low: 1 High: 300\n",
      "gbar_Na in ['all'] at 15.79% of range. Val: 0.0157890863701 Low: 0 High: 0.1\n",
      "gbar_Kd in ['all'] at 65.90% of range. Val: 0.0659039827162 Low: 0 High: 0.1\n",
      "gbar_Kslow in ['all'] at 83.04% of range. Val: 0.00083040779652 Low: 0 High: 0.001\n",
      "gbar_KA in ['all'] at 51.54% of range. Val: 0.0103082122528 Low: 0 High: 0.02\n",
      "gbar_KCa in ['all'] at 98.47% of range. Val: 0.01575477882 Low: 0 High: 0.016\n",
      "gbar_LCa in ['all'] at 37.25% of range. Val: 0.000186252186022 Low: 0 High: 0.0005\n",
      "eh in ['apical'] at 79.39% of range. Val: -16.1815295646 Low: -40.0 High: -10.0\n",
      "gbar_Ih in ['apical'] at 36.23% of range. Val: 1.08677845171e-06 Low: 0 High: 3e-06\n",
      "gbar_CaT in ['apical'] at 10.72% of range. Val: 0.00214364190581 Low: 0 High: 0.02\n",
      "('GEN', 3, 'Parents', 4, 'Elite', 12, 'DIV', 6, 'RND', 6, 'TOT NEW', 24)\n",
      "('STARTED GEN', '3', 'size', 24)\n",
      "('DONE with', 1, 'of', 24, 'of GEN', '3', 'with Fitness', '18.55')\n",
      "('DONE with', 2, 'of', 24, 'of GEN', '3', 'with Fitness', '18.08')\n",
      "('DONE with', 3, 'of', 24, 'of GEN', '3', 'with Fitness', '18.28')\n",
      "('DONE with', 4, 'of', 24, 'of GEN', '3', 'with Fitness', '19.51')\n",
      "('DONE with', 5, 'of', 24, 'of GEN', '3', 'with Fitness', '18.28')\n",
      "('DONE with', 6, 'of', 24, 'of GEN', '3', 'with Fitness', '15.27')\n",
      "('DONE with', 7, 'of', 24, 'of GEN', '3', 'with Fitness', '18.70')\n"
     ]
    }
   ],
   "source": [
    "#fitter.clear_cache()\n",
    "fitter.fit(int(multiprocessing.cpu_count()*1.5), 15)"
   ]
  },
  {
   "cell_type": "code",
   "execution_count": null,
   "metadata": {},
   "outputs": [],
   "source": []
  }
 ],
 "metadata": {
  "kernelspec": {
   "display_name": "Python 2",
   "language": "python",
   "name": "python2"
  },
  "language_info": {
   "codemirror_mode": {
    "name": "ipython",
    "version": 2
   },
   "file_extension": ".py",
   "mimetype": "text/x-python",
   "name": "python",
   "nbconvert_exporter": "python",
   "pygments_lexer": "ipython2",
   "version": "2.7.14"
  },
  "varInspector": {
   "cols": {
    "lenName": 16,
    "lenType": 16,
    "lenVar": 40
   },
   "kernels_config": {
    "python": {
     "delete_cmd_postfix": "",
     "delete_cmd_prefix": "del ",
     "library": "var_list.py",
     "varRefreshCmd": "print(var_dic_list())"
    },
    "r": {
     "delete_cmd_postfix": ") ",
     "delete_cmd_prefix": "rm(",
     "library": "var_list.r",
     "varRefreshCmd": "cat(var_dic_list()) "
    }
   },
   "position": {
    "height": "437.85px",
    "left": "557px",
    "right": "20px",
    "top": "120px",
    "width": "350px"
   },
   "types_to_exclude": [
    "module",
    "function",
    "builtin_function_or_method",
    "instance",
    "_Feature"
   ],
   "window_display": false
  }
 },
 "nbformat": 4,
 "nbformat_minor": 2
}
