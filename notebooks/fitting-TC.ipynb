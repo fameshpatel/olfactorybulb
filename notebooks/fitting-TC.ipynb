{
 "cells": [
  {
   "cell_type": "code",
   "execution_count": 1,
   "metadata": {
    "scrolled": false
   },
   "outputs": [
    {
     "name": "stderr",
     "output_type": "stream",
     "text": [
      "/home/justas/anaconda2/envs/p27/lib/python2.7/site-packages/h5py/__init__.py:36: FutureWarning: Conversion of the second argument of issubdtype from `float` to `np.floating` is deprecated. In future, it will be treated as `np.float64 == np.dtype(float).type`.\n",
      "  from ._conv import register_converters as _register_converters\n"
     ]
    },
    {
     "name": "stdout",
     "output_type": "stream",
     "text": [
      "Could not load NEURONBackend\n"
     ]
    }
   ],
   "source": [
    "import os; os.chdir('..')\n",
    "import multiprocessing\n",
    "from prev_ob_models.Birgiolas2020.fitting import *"
   ]
  },
  {
   "cell_type": "code",
   "execution_count": 2,
   "metadata": {},
   "outputs": [
    {
     "name": "stdout",
     "output_type": "stream",
     "text": [
      "5\n"
     ]
    }
   ],
   "source": [
    "import sys\n",
    "cell_id = sys.argv[1] if len(sys.argv) > 1 and sys.argv[1].isdigit() else 5\n",
    "print(cell_id)"
   ]
  },
  {
   "cell_type": "code",
   "execution_count": 3,
   "metadata": {},
   "outputs": [
    {
     "name": "stdout",
     "output_type": "stream",
     "text": [
      "('Starting tc FITTER for model:', 'prev_ob_models.Birgiolas2020.isolated_cells.TC5')\n"
     ]
    }
   ],
   "source": [
    "fitter = CellFitter(cell_type=\"tc\", fitting_model_class=\"prev_ob_models.Birgiolas2020.isolated_cells.TC\"+str(cell_id))"
   ]
  },
  {
   "cell_type": "code",
   "execution_count": 4,
   "metadata": {},
   "outputs": [],
   "source": [
    "import prev_ob_models.Birgiolas2020.fitting"
   ]
  },
  {
   "cell_type": "code",
   "execution_count": 5,
   "metadata": {},
   "outputs": [],
   "source": [
    "prev_ob_models.Birgiolas2020.fitting.SHOW_ERRORS = True"
   ]
  },
  {
   "cell_type": "code",
   "execution_count": null,
   "metadata": {},
   "outputs": [
    {
     "name": "stdout",
     "output_type": "stream",
     "text": [
      "('STARTED GEN', 'ZERO', 'size', 24)\n",
      "('List', 'axonal', 'not found in cell', 'TC5')\n",
      "('List', 'axonal', 'not found in cell', 'TC5')\n",
      "('List', 'axonal', 'not found in cell', 'TC5')\n",
      "('List', 'axonal', 'not found in cell', 'TC5')\n",
      "('List', 'axonal', 'not found in cell', 'TC5')\n",
      "('List', 'axonal', 'not found in cell', 'TC5')\n",
      "('List', 'axonal', 'not found in cell', 'TC5')\n",
      "('List', 'axonal', 'not found in cell', 'TC5')\n",
      "('List', 'axonal', 'not found in cell', 'TC5')\n",
      "('List', 'axonal', 'not found in cell', 'TC5')\n",
      "('List', 'axonal', 'not found in cell', 'TC5')\n",
      "('List', 'axonal', 'not found in cell', 'TC5')\n",
      "('List', 'axonal', 'not found in cell', 'TC5')\n",
      "('List', 'axonal', 'not found in cell', 'TC5')\n",
      "('List', 'axonal', 'not found in cell', 'TC5')\n",
      "Traceback (most recent call last):\n",
      "  File \"prev_ob_models/Birgiolas2020/fitting.py\", line 195, in get_workitem_score\n",
      "    raise Exception(prediction)\n",
      "Exception: Traceback (most recent call last):\n",
      "  File \"/home/justas/Repositories/neuronunit_justasb/neuronunit/tests/olfactory_bulb/__init__.py\", line 30, in generate_prediction\n",
      "    result = self.generate_prediction_nocache(model)\n",
      "  File \"/home/justas/Repositories/neuronunit_justasb/neuronunit/tests/olfactory_bulb/tests.py\", line 1027, in generate_prediction_nocache\n",
      "    freq_targetHz, crossings, voltage = self.get_dependent_prediction(TargetFreqTestHelper, model)\n",
      "ValueError: too many values to unpack\n",
      "\n",
      "\n",
      "Traceback (most recent call last):\n",
      "  File \"prev_ob_models/Birgiolas2020/fitting.py\", line 195, in get_workitem_score\n",
      "    raise Exception(prediction)\n",
      "Exception: Traceback (most recent call last):\n",
      "  File \"/home/justas/Repositories/neuronunit_justasb/neuronunit/tests/olfactory_bulb/__init__.py\", line 30, in generate_prediction\n",
      "    result = self.generate_prediction_nocache(model)\n",
      "  File \"/home/justas/Repositories/neuronunit_justasb/neuronunit/tests/olfactory_bulb/tests.py\", line 385, in generate_prediction_nocache\n",
      "    return ap[\"threshold_v\"]\n",
      "TypeError: string indices must be integers, not str\n",
      "\n",
      "\n",
      "Traceback (most recent call last):\n",
      "  File \"prev_ob_models/Birgiolas2020/fitting.py\", line 195, in get_workitem_score\n",
      "    raise Exception(prediction)\n",
      "Exception: Traceback (most recent call last):\n",
      "  File \"/home/justas/Repositories/neuronunit_justasb/neuronunit/tests/olfactory_bulb/__init__.py\", line 30, in generate_prediction\n",
      "    result = self.generate_prediction_nocache(model)\n",
      "  File \"/home/justas/Repositories/neuronunit_justasb/neuronunit/tests/olfactory_bulb/tests.py\", line 1072, in generate_prediction_nocache\n",
      "    freq_targetHz, crossings, voltage = self.get_dependent_prediction(TargetFreqTestHelper, model)\n",
      "ValueError: too many values to unpack\n",
      "\n",
      "\n",
      "Traceback (most recent call last):\n",
      "  File \"prev_ob_models/Birgiolas2020/fitting.py\", line 195, in get_workitem_score\n",
      "    raise Exception(prediction)\n",
      "Exception: Traceback (most recent call last):\n",
      "  File \"/home/justas/Repositories/neuronunit_justasb/neuronunit/tests/olfactory_bulb/__init__.py\", line 30, in generate_prediction\n",
      "    result = self.generate_prediction_nocache(model)\n",
      "  File \"/home/justas/Repositories/neuronunit_justasb/neuronunit/tests/olfactory_bulb/tests.py\", line 415, in generate_prediction_nocache\n",
      "    return ap[\"amplitude\"]\n",
      "TypeError: string indices must be integers, not str\n",
      "\n",
      "\n",
      "Traceback (most recent call last):\n",
      "  File \"prev_ob_models/Birgiolas2020/fitting.py\", line 195, in get_workitem_score\n",
      "    raise Exception(prediction)\n",
      "Exception: Traceback (most recent call last):\n",
      "  File \"/home/justas/Repositories/neuronunit_justasb/neuronunit/tests/olfactory_bulb/__init__.py\", line 30, in generate_prediction\n",
      "    result = self.generate_prediction_nocache(model)\n",
      "  File \"/home/justas/Repositories/neuronunit_justasb/neuronunit/tests/olfactory_bulb/tests.py\", line 442, in generate_prediction_nocache\n",
      "    return ap[\"half_width\"]\n",
      "TypeError: string indices must be integers, not str\n",
      "\n",
      "\n",
      "Traceback (most recent call last):\n",
      "  File \"prev_ob_models/Birgiolas2020/fitting.py\", line 195, in get_workitem_score\n",
      "    raise Exception(prediction)\n",
      "Exception: Traceback (most recent call last):\n",
      "  File \"/home/justas/Repositories/neuronunit_justasb/neuronunit/tests/olfactory_bulb/__init__.py\", line 30, in generate_prediction\n",
      "    result = self.generate_prediction_nocache(model)\n",
      "  File \"/home/justas/Repositories/neuronunit_justasb/neuronunit/tests/olfactory_bulb/tests.py\", line 270, in generate_prediction_nocache\n",
      "    raise Exception(\"Rheobase was not found between 0 and \" + str(upper_bound))\n",
      "Exception: Rheobase was not found between 0 and 0.8783527415774453 nA\n",
      "\n",
      "\n",
      "Traceback (most recent call last):\n",
      "  File \"prev_ob_models/Birgiolas2020/fitting.py\", line 195, in get_workitem_score\n",
      "    raise Exception(prediction)\n",
      "Exception: Traceback (most recent call last):\n",
      "  File \"/home/justas/Repositories/neuronunit_justasb/neuronunit/tests/olfactory_bulb/__init__.py\", line 30, in generate_prediction\n",
      "    result = self.generate_prediction_nocache(model)\n",
      "  File \"/home/justas/Repositories/neuronunit_justasb/neuronunit/tests/olfactory_bulb/tests.py\", line 1027, in generate_prediction_nocache\n",
      "    freq_targetHz, crossings, voltage = self.get_dependent_prediction(TargetFreqTestHelper, model)\n",
      "ValueError: too many values to unpack\n",
      "\n",
      "\n",
      "Traceback (most recent call last):\n",
      "  File \"prev_ob_models/Birgiolas2020/fitting.py\", line 195, in get_workitem_score\n",
      "    raise Exception(prediction)\n",
      "Exception: Traceback (most recent call last):\n",
      "  File \"/home/justas/Repositories/neuronunit_justasb/neuronunit/tests/olfactory_bulb/__init__.py\", line 30, in generate_prediction\n",
      "    result = self.generate_prediction_nocache(model)\n",
      "  File \"/home/justas/Repositories/neuronunit_justasb/neuronunit/tests/olfactory_bulb/tests.py\", line 385, in generate_prediction_nocache\n",
      "    return ap[\"threshold_v\"]\n",
      "TypeError: string indices must be integers, not str\n",
      "\n",
      "\n",
      "Traceback (most recent call last):\n",
      "  File \"prev_ob_models/Birgiolas2020/fitting.py\", line 195, in get_workitem_score\n",
      "    raise Exception(prediction)\n",
      "Exception: Traceback (most recent call last):\n",
      "  File \"/home/justas/Repositories/neuronunit_justasb/neuronunit/tests/olfactory_bulb/__init__.py\", line 30, in generate_prediction\n",
      "    result = self.generate_prediction_nocache(model)\n",
      "  File \"/home/justas/Repositories/neuronunit_justasb/neuronunit/tests/olfactory_bulb/tests.py\", line 1072, in generate_prediction_nocache\n",
      "    freq_targetHz, crossings, voltage = self.get_dependent_prediction(TargetFreqTestHelper, model)\n",
      "ValueError: too many values to unpack\n",
      "\n",
      "\n",
      "Traceback (most recent call last):\n",
      "  File \"prev_ob_models/Birgiolas2020/fitting.py\", line 195, in get_workitem_score\n",
      "    raise Exception(prediction)\n",
      "Exception: Traceback (most recent call last):\n",
      "  File \"/home/justas/Repositories/neuronunit_justasb/neuronunit/tests/olfactory_bulb/__init__.py\", line 30, in generate_prediction\n",
      "    result = self.generate_prediction_nocache(model)\n",
      "  File \"/home/justas/Repositories/neuronunit_justasb/neuronunit/tests/olfactory_bulb/tests.py\", line 415, in generate_prediction_nocache\n",
      "    return ap[\"amplitude\"]\n",
      "TypeError: string indices must be integers, not str\n",
      "\n",
      "\n",
      "Traceback (most recent call last):\n",
      "  File \"prev_ob_models/Birgiolas2020/fitting.py\", line 195, in get_workitem_score\n",
      "    raise Exception(prediction)\n",
      "Exception: Traceback (most recent call last):\n",
      "  File \"/home/justas/Repositories/neuronunit_justasb/neuronunit/tests/olfactory_bulb/__init__.py\", line 30, in generate_prediction\n",
      "    result = self.generate_prediction_nocache(model)\n",
      "  File \"/home/justas/Repositories/neuronunit_justasb/neuronunit/tests/olfactory_bulb/tests.py\", line 442, in generate_prediction_nocache\n",
      "    return ap[\"half_width\"]\n",
      "TypeError: string indices must be integers, not str\n",
      "\n",
      "\n",
      "Traceback (most recent call last):\n",
      "  File \"prev_ob_models/Birgiolas2020/fitting.py\", line 195, in get_workitem_score\n",
      "    raise Exception(prediction)\n",
      "Exception: Traceback (most recent call last):\n",
      "  File \"/home/justas/Repositories/neuronunit_justasb/neuronunit/tests/olfactory_bulb/__init__.py\", line 30, in generate_prediction\n",
      "    result = self.generate_prediction_nocache(model)\n",
      "  File \"/home/justas/Repositories/neuronunit_justasb/neuronunit/tests/olfactory_bulb/tests.py\", line 625, in generate_prediction_nocache\n",
      "    _, _, voltage = self.get_dependent_prediction(TargetFreqTestHelper, model)\n",
      "ValueError: too many values to unpack\n",
      "\n"
     ]
    },
    {
     "name": "stdout",
     "output_type": "stream",
     "text": [
      "\n",
      "Traceback (most recent call last):\n",
      "  File \"prev_ob_models/Birgiolas2020/fitting.py\", line 195, in get_workitem_score\n",
      "    raise Exception(prediction)\n",
      "Exception: Traceback (most recent call last):\n",
      "  File \"/home/justas/Repositories/neuronunit_justasb/neuronunit/tests/olfactory_bulb/__init__.py\", line 30, in generate_prediction\n",
      "    result = self.generate_prediction_nocache(model)\n",
      "  File \"/home/justas/Repositories/neuronunit_justasb/neuronunit/tests/olfactory_bulb/tests.py\", line 954, in generate_prediction_nocache\n",
      "    freq_targetHz, crossings, voltage = self.get_dependent_prediction(TargetFreqTestHelper, model)\n",
      "ValueError: too many values to unpack\n",
      "\n",
      "\n",
      "('List', 'axonal', 'not found in cell', 'TC5')\n",
      "Traceback (most recent call last):\n",
      "  File \"prev_ob_models/Birgiolas2020/fitting.py\", line 195, in get_workitem_score\n",
      "    raise Exception(prediction)\n",
      "Exception: Traceback (most recent call last):\n",
      "  File \"/home/justas/Repositories/neuronunit_justasb/neuronunit/tests/olfactory_bulb/__init__.py\", line 30, in generate_prediction\n",
      "    result = self.generate_prediction_nocache(model)\n",
      "  File \"/home/justas/Repositories/neuronunit_justasb/neuronunit/tests/olfactory_bulb/tests.py\", line 267, in generate_prediction_nocache\n",
      "    raise Exception(\"Negative rheobase: Model produces spikes without stimulation\")\n",
      "Exception: Negative rheobase: Model produces spikes without stimulation\n",
      "\n",
      "\n",
      "Traceback (most recent call last):\n",
      "  File \"prev_ob_models/Birgiolas2020/fitting.py\", line 195, in get_workitem_score\n",
      "    raise Exception(prediction)\n",
      "Exception: Traceback (most recent call last):\n",
      "  File \"/home/justas/Repositories/neuronunit_justasb/neuronunit/tests/olfactory_bulb/__init__.py\", line 30, in generate_prediction\n",
      "    result = self.generate_prediction_nocache(model)\n",
      "  File \"/home/justas/Repositories/neuronunit_justasb/neuronunit/tests/olfactory_bulb/tests.py\", line 1027, in generate_prediction_nocache\n",
      "    freq_targetHz, crossings, voltage = self.get_dependent_prediction(TargetFreqTestHelper, model)\n",
      "ValueError: too many values to unpack\n",
      "\n",
      "\n",
      "Traceback (most recent call last):\n",
      "  File \"prev_ob_models/Birgiolas2020/fitting.py\", line 195, in get_workitem_score\n",
      "    raise Exception(prediction)\n",
      "Exception: Traceback (most recent call last):\n",
      "  File \"/home/justas/Repositories/neuronunit_justasb/neuronunit/tests/olfactory_bulb/__init__.py\", line 30, in generate_prediction\n",
      "    result = self.generate_prediction_nocache(model)\n",
      "  File \"/home/justas/Repositories/neuronunit_justasb/neuronunit/tests/olfactory_bulb/tests.py\", line 385, in generate_prediction_nocache\n",
      "    return ap[\"threshold_v\"]\n",
      "TypeError: string indices must be integers, not str\n",
      "\n",
      "\n",
      "Traceback (most recent call last):\n",
      "  File \"prev_ob_models/Birgiolas2020/fitting.py\", line 195, in get_workitem_score\n",
      "    raise Exception(prediction)\n",
      "Exception: Traceback (most recent call last):\n",
      "  File \"/home/justas/Repositories/neuronunit_justasb/neuronunit/tests/olfactory_bulb/__init__.py\", line 30, in generate_prediction\n",
      "    result = self.generate_prediction_nocache(model)\n",
      "  File \"/home/justas/Repositories/neuronunit_justasb/neuronunit/tests/olfactory_bulb/tests.py\", line 1072, in generate_prediction_nocache\n",
      "    freq_targetHz, crossings, voltage = self.get_dependent_prediction(TargetFreqTestHelper, model)\n",
      "ValueError: too many values to unpack\n",
      "\n",
      "\n",
      "Traceback (most recent call last):\n",
      "  File \"prev_ob_models/Birgiolas2020/fitting.py\", line 195, in get_workitem_score\n",
      "    raise Exception(prediction)\n",
      "Exception: Traceback (most recent call last):\n",
      "  File \"/home/justas/Repositories/neuronunit_justasb/neuronunit/tests/olfactory_bulb/__init__.py\", line 30, in generate_prediction\n",
      "    result = self.generate_prediction_nocache(model)\n",
      "  File \"/home/justas/Repositories/neuronunit_justasb/neuronunit/tests/olfactory_bulb/tests.py\", line 415, in generate_prediction_nocache\n",
      "    return ap[\"amplitude\"]\n",
      "TypeError: string indices must be integers, not str\n",
      "\n",
      "\n",
      "Traceback (most recent call last):\n",
      "  File \"prev_ob_models/Birgiolas2020/fitting.py\", line 195, in get_workitem_score\n",
      "    raise Exception(prediction)\n",
      "Exception: Traceback (most recent call last):\n",
      "  File \"/home/justas/Repositories/neuronunit_justasb/neuronunit/tests/olfactory_bulb/__init__.py\", line 30, in generate_prediction\n",
      "    result = self.generate_prediction_nocache(model)\n",
      "  File \"/home/justas/Repositories/neuronunit_justasb/neuronunit/tests/olfactory_bulb/tests.py\", line 442, in generate_prediction_nocache\n",
      "    return ap[\"half_width\"]\n",
      "TypeError: string indices must be integers, not str\n",
      "\n",
      "\n",
      "Traceback (most recent call last):\n",
      "  File \"prev_ob_models/Birgiolas2020/fitting.py\", line 195, in get_workitem_score\n",
      "    raise Exception(prediction)\n",
      "Exception: Traceback (most recent call last):\n",
      "  File \"/home/justas/Repositories/neuronunit_justasb/neuronunit/tests/olfactory_bulb/__init__.py\", line 30, in generate_prediction\n",
      "    result = self.generate_prediction_nocache(model)\n",
      "  File \"/home/justas/Repositories/neuronunit_justasb/neuronunit/tests/olfactory_bulb/tests.py\", line 270, in generate_prediction_nocache\n",
      "    raise Exception(\"Rheobase was not found between 0 and \" + str(upper_bound))\n",
      "Exception: Rheobase was not found between 0 and 0.3476673872090474 nA\n",
      "\n",
      "\n"
     ]
    }
   ],
   "source": [
    "#fitter.clear_cache()\n",
    "fitter.fit(int(multiprocessing.cpu_count()*1.5), 1)"
   ]
  },
  {
   "cell_type": "code",
   "execution_count": null,
   "metadata": {},
   "outputs": [],
   "source": [
    "from scipy.optimize import minimize\n",
    "def evaluate(ind):\n",
    "    print(ind)\n",
    "    score = float(fitter.evaluate(ind)[0])\n",
    "    print(\"score\", score)\n",
    "    return score\n",
    "\n",
    "min_res = minimize(evaluate, [], method='Powell', \n",
    "                   options={\"disp\":True, \"maxfev\":45, \"maxiter\":100})#,\"xtol\":0.1,\"ftol\":0.1})\n",
    "min_res"
   ]
  },
  {
   "cell_type": "code",
   "execution_count": null,
   "metadata": {},
   "outputs": [],
   "source": []
  }
 ],
 "metadata": {
  "kernelspec": {
   "display_name": "Python 2",
   "language": "python",
   "name": "python2"
  },
  "language_info": {
   "codemirror_mode": {
    "name": "ipython",
    "version": 2
   },
   "file_extension": ".py",
   "mimetype": "text/x-python",
   "name": "python",
   "nbconvert_exporter": "python",
   "pygments_lexer": "ipython2",
   "version": "2.7.14"
  },
  "varInspector": {
   "cols": {
    "lenName": 16,
    "lenType": 16,
    "lenVar": 40
   },
   "kernels_config": {
    "python": {
     "delete_cmd_postfix": "",
     "delete_cmd_prefix": "del ",
     "library": "var_list.py",
     "varRefreshCmd": "print(var_dic_list())"
    },
    "r": {
     "delete_cmd_postfix": ") ",
     "delete_cmd_prefix": "rm(",
     "library": "var_list.r",
     "varRefreshCmd": "cat(var_dic_list()) "
    }
   },
   "position": {
    "height": "437.85px",
    "left": "557px",
    "right": "20px",
    "top": "120px",
    "width": "350px"
   },
   "types_to_exclude": [
    "module",
    "function",
    "builtin_function_or_method",
    "instance",
    "_Feature"
   ],
   "window_display": false
  }
 },
 "nbformat": 4,
 "nbformat_minor": 2
}
