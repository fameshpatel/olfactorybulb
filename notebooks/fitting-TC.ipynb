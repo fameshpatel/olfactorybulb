{
 "cells": [
  {
   "cell_type": "code",
   "execution_count": 1,
   "metadata": {
    "scrolled": false
   },
   "outputs": [
    {
     "name": "stderr",
     "output_type": "stream",
     "text": [
      "/home/justas/anaconda2/envs/p27/lib/python2.7/site-packages/h5py/__init__.py:36: FutureWarning: Conversion of the second argument of issubdtype from `float` to `np.floating` is deprecated. In future, it will be treated as `np.float64 == np.dtype(float).type`.\n",
      "  from ._conv import register_converters as _register_converters\n"
     ]
    },
    {
     "name": "stdout",
     "output_type": "stream",
     "text": [
      "Could not load NEURONBackend\n"
     ]
    }
   ],
   "source": [
    "import os; os.chdir('..')\n",
    "import multiprocessing\n",
    "from prev_ob_models.Birgiolas2020.fitting import *"
   ]
  },
  {
   "cell_type": "code",
   "execution_count": 2,
   "metadata": {},
   "outputs": [
    {
     "name": "stdout",
     "output_type": "stream",
     "text": [
      "1\n"
     ]
    }
   ],
   "source": [
    "import sys\n",
    "cell_id = sys.argv[1] if len(sys.argv) > 1 and sys.argv[1].isdigit() else 1\n",
    "print(cell_id)"
   ]
  },
  {
   "cell_type": "code",
   "execution_count": 3,
   "metadata": {},
   "outputs": [
    {
     "name": "stdout",
     "output_type": "stream",
     "text": [
      "('Starting tc FITTER for model:', 'prev_ob_models.Birgiolas2020.isolated_cells.TC1')\n"
     ]
    }
   ],
   "source": [
    "fitter = CellFitter(cell_type=\"tc\", fitting_model_class=\"prev_ob_models.Birgiolas2020.isolated_cells.TC\"+str(cell_id))"
   ]
  },
  {
   "cell_type": "code",
   "execution_count": null,
   "metadata": {},
   "outputs": [
    {
     "name": "stdout",
     "output_type": "stream",
     "text": [
      "('STARTED GEN', 'ZERO', 'size', 24)\n",
      "('DONE with', 1, 'of', 24, 'of GEN', 'ZERO', 'with Fitness', '21.99')\n",
      "('DONE with', 2, 'of', 24, 'of GEN', 'ZERO', 'with Fitness', '14.83')\n",
      "('DONE with', 3, 'of', 24, 'of GEN', 'ZERO', 'with Fitness', '48.22')\n",
      "('DONE with', 4, 'of', 24, 'of GEN', 'ZERO', 'with Fitness', '347.32')\n",
      "('DONE with', 5, 'of', 24, 'of GEN', 'ZERO', 'with Fitness', '18.93')\n",
      "('DONE with', 6, 'of', 24, 'of GEN', 'ZERO', 'with Fitness', '15.06')\n",
      "('DONE with', 7, 'of', 24, 'of GEN', 'ZERO', 'with Fitness', '7.29')\n",
      "('DONE with', 8, 'of', 24, 'of GEN', 'ZERO', 'with Fitness', '36.59')\n",
      "('DONE with', 9, 'of', 24, 'of GEN', 'ZERO', 'with Fitness', '10.24')\n",
      "('DONE with', 10, 'of', 24, 'of GEN', 'ZERO', 'with Fitness', '18.71')\n",
      "('DONE with', 11, 'of', 24, 'of GEN', 'ZERO', 'with Fitness', '20.97')\n",
      "('DONE with', 12, 'of', 24, 'of GEN', 'ZERO', 'with Fitness', '16.87')\n",
      "('DONE with', 13, 'of', 24, 'of GEN', 'ZERO', 'with Fitness', '18.43')\n",
      "('DONE with', 14, 'of', 24, 'of GEN', 'ZERO', 'with Fitness', '9.89')\n",
      "('DONE with', 15, 'of', 24, 'of GEN', 'ZERO', 'with Fitness', '13.52')\n",
      "('DONE with', 16, 'of', 24, 'of GEN', 'ZERO', 'with Fitness', '15.02')\n",
      "('DONE with', 17, 'of', 24, 'of GEN', 'ZERO', 'with Fitness', '19.16')\n",
      "('DONE with', 18, 'of', 24, 'of GEN', 'ZERO', 'with Fitness', '14.44')\n",
      "('DONE with', 19, 'of', 24, 'of GEN', 'ZERO', 'with Fitness', '16.92')\n",
      "('DONE with', 20, 'of', 24, 'of GEN', 'ZERO', 'with Fitness', '7.32')\n",
      "('DONE with', 21, 'of', 24, 'of GEN', 'ZERO', 'with Fitness', '11.70')\n",
      "('DONE with', 22, 'of', 24, 'of GEN', 'ZERO', 'with Fitness', '25.19')\n",
      "('DONE with', 23, 'of', 24, 'of GEN', 'ZERO', 'with Fitness', '155.13')\n",
      "('DONE with', 24, 'of', 24, 'of GEN', 'ZERO', 'with Fitness', '20.24')\n",
      "('GEN', 1, 'Parents', 4, 'Elite', 12, 'DIV', 6, 'RND', 6, 'TOT NEW', 24)\n",
      "('STARTED GEN', '1', 'size', 24)\n",
      "('DONE with', 1, 'of', 24, 'of GEN', '1', 'with Fitness', '20.59')\n"
     ]
    }
   ],
   "source": [
    "#fitter.clear_cache()\n",
    "fitter.fit(int(multiprocessing.cpu_count()*1.5), 1)"
   ]
  },
  {
   "cell_type": "code",
   "execution_count": null,
   "metadata": {},
   "outputs": [],
   "source": []
  }
 ],
 "metadata": {
  "kernelspec": {
   "display_name": "Python 2",
   "language": "python",
   "name": "python2"
  },
  "language_info": {
   "codemirror_mode": {
    "name": "ipython",
    "version": 2
   },
   "file_extension": ".py",
   "mimetype": "text/x-python",
   "name": "python",
   "nbconvert_exporter": "python",
   "pygments_lexer": "ipython2",
   "version": "2.7.14"
  },
  "varInspector": {
   "cols": {
    "lenName": 16,
    "lenType": 16,
    "lenVar": 40
   },
   "kernels_config": {
    "python": {
     "delete_cmd_postfix": "",
     "delete_cmd_prefix": "del ",
     "library": "var_list.py",
     "varRefreshCmd": "print(var_dic_list())"
    },
    "r": {
     "delete_cmd_postfix": ") ",
     "delete_cmd_prefix": "rm(",
     "library": "var_list.r",
     "varRefreshCmd": "cat(var_dic_list()) "
    }
   },
   "position": {
    "height": "437.85px",
    "left": "557px",
    "right": "20px",
    "top": "120px",
    "width": "350px"
   },
   "types_to_exclude": [
    "module",
    "function",
    "builtin_function_or_method",
    "instance",
    "_Feature"
   ],
   "window_display": false
  }
 },
 "nbformat": 4,
 "nbformat_minor": 2
}
